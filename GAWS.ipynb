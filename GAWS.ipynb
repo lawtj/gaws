{
 "cells": [
  {
   "cell_type": "markdown",
   "metadata": {
    "toc": true
   },
   "source": [
    "<h1>Table of Contents<span class=\"tocSkip\"></span></h1>\n",
    "<div class=\"toc\"><ul class=\"toc-item\"><li><span><a href=\"#Import-and-preamble\" data-toc-modified-id=\"Import-and-preamble-1\"><span class=\"toc-item-num\">1&nbsp;&nbsp;</span>Import and preamble</a></span></li><li><span><a href=\"#Apply-region-mapping\" data-toc-modified-id=\"Apply-region-mapping-2\"><span class=\"toc-item-num\">2&nbsp;&nbsp;</span>Apply region mapping</a></span><ul class=\"toc-item\"><li><span><a href=\"#To-do-list\" data-toc-modified-id=\"To-do-list-2.1\"><span class=\"toc-item-num\">2.1&nbsp;&nbsp;</span>To do list</a></span></li><li><span><a href=\"#Identify-regions-with-free-text\" data-toc-modified-id=\"Identify-regions-with-free-text-2.2\"><span class=\"toc-item-num\">2.2&nbsp;&nbsp;</span>Identify regions with free text</a></span></li><li><span><a href=\"#Identify-countries-with-no-region-mapping\" data-toc-modified-id=\"Identify-countries-with-no-region-mapping-2.3\"><span class=\"toc-item-num\">2.3&nbsp;&nbsp;</span>Identify countries with no region mapping</a></span></li><li><span><a href=\"#Export-to-CSV\" data-toc-modified-id=\"Export-to-CSV-2.4\"><span class=\"toc-item-num\">2.4&nbsp;&nbsp;</span>Export to CSV</a></span></li></ul></li><li><span><a href=\"#Number-completed-by-region-(PAPs-only,-nonPAPs-only,-or-none)\" data-toc-modified-id=\"Number-completed-by-region-(PAPs-only,-nonPAPs-only,-or-none)-3\"><span class=\"toc-item-num\">3&nbsp;&nbsp;</span>Number completed by region (PAPs only, nonPAPs only, or none)</a></span></li><li><span><a href=\"#Datatable-mockup\" data-toc-modified-id=\"Datatable-mockup-4\"><span class=\"toc-item-num\">4&nbsp;&nbsp;</span>Datatable mockup</a></span></li><li><span><a href=\"#View-last-added-rows-of-df.-Compare-to-Tableau\" data-toc-modified-id=\"View-last-added-rows-of-df.-Compare-to-Tableau-5\"><span class=\"toc-item-num\">5&nbsp;&nbsp;</span>View last added rows of df. Compare to Tableau</a></span></li></ul></div>"
   ]
  },
  {
   "cell_type": "markdown",
   "metadata": {},
   "source": [
    "<b>Instructions for Use</b>\n",
    "\n",
    "1. In the GAWS folder, create a new folder with the current date, it will remain empty.\n",
    "2. Move all of \"english, french, spanish\".csv to the last dated empty folder as backup.\n",
    "3. Download labeled CSV files from redcap for each of the languages, with labels. Name them english.csv, french.csv, spanish.csv."
   ]
  },
  {
   "cell_type": "markdown",
   "metadata": {},
   "source": [
    "# Import and preamble"
   ]
  },
  {
   "cell_type": "code",
   "execution_count": 326,
   "metadata": {
    "collapsed": true
   },
   "outputs": [],
   "source": [
    "import requests\n",
    "import pandas as pd\n",
    "import numpy as np\n",
    "from io import StringIO"
   ]
  },
  {
   "cell_type": "code",
   "execution_count": 327,
   "metadata": {
    "collapsed": true
   },
   "outputs": [],
   "source": [
    "data = {\n",
    "    'token': '98F364325C69DC1309C77B0ACF890221',\n",
    "    'content': 'record',\n",
    "    'format': 'csv',\n",
    "    'type': 'flat',\n",
    "    'csvDelimiter': '',\n",
    "    'rawOrLabel': 'label',\n",
    "    'rawOrLabelHeaders': 'label',\n",
    "    'exportCheckboxLabel': 'false',\n",
    "    'exportSurveyFields': 'true',\n",
    "    'exportDataAccessGroups': 'false',\n",
    "    'returnFormat': 'json'\n",
    "}\n",
    "r = requests.post('https://redcap.ucsf.edu/api/',data=data)\n",
    "\n",
    "eng = pd.read_csv(StringIO(r.text))\n",
    "\n",
    "data = {\n",
    "    'token': 'C5974B05A8318646A0D3B193192C99F4',\n",
    "    'content': 'record',\n",
    "    'format': 'csv',\n",
    "    'type': 'flat',\n",
    "    'csvDelimiter': '',\n",
    "    'rawOrLabel': 'label',\n",
    "    'rawOrLabelHeaders': 'label',\n",
    "    'exportCheckboxLabel': 'false',\n",
    "    'exportSurveyFields': 'true',\n",
    "    'exportDataAccessGroups': 'false',\n",
    "    'returnFormat': 'json'\n",
    "}\n",
    "r = requests.post('https://redcap.ucsf.edu/api/',data=data)\n",
    "\n",
    "fr = pd.read_csv(StringIO(r.text))\n",
    "\n",
    "data = {\n",
    "    'token': '2169B4519B2EE75E42FEE8BAF6E16A92',\n",
    "    'content': 'record',\n",
    "    'format': 'csv',\n",
    "    'type': 'flat',\n",
    "    'csvDelimiter': '',\n",
    "    'rawOrLabel': 'label',\n",
    "    'rawOrLabelHeaders': 'label',\n",
    "    'exportCheckboxLabel': 'false',\n",
    "    'exportSurveyFields': 'true',\n",
    "    'exportDataAccessGroups': 'false',\n",
    "    'returnFormat': 'json'\n",
    "}\n",
    "r = requests.post('https://redcap.ucsf.edu/api/',data=data)\n",
    "\n",
    "sp = pd.read_csv(StringIO(r.text))\n",
    "\n",
    "regions = pd.read_csv('regions.csv')"
   ]
  },
  {
   "cell_type": "markdown",
   "metadata": {},
   "source": [
    "Insert 4 columns in the foreign language files, so the number of columns match"
   ]
  },
  {
   "cell_type": "code",
   "execution_count": 328,
   "metadata": {
    "collapsed": true
   },
   "outputs": [],
   "source": [
    "def insertcol(dataf):\n",
    "    dataf.insert(13, 'dummycol1',np.nan)\n",
    "    dataf.insert(13, 'dummycol2',np.nan)\n",
    "    dataf.insert(13, 'dummycol3',np.nan)\n",
    "    dataf.insert(13, 'dummycol4',np.nan)\n",
    "\n",
    "insertcol(fr)\n",
    "insertcol(sp)"
   ]
  },
  {
   "cell_type": "markdown",
   "metadata": {},
   "source": [
    "This is the english language column headers"
   ]
  },
  {
   "cell_type": "code",
   "execution_count": 329,
   "metadata": {
    "collapsed": true
   },
   "outputs": [],
   "source": [
    "collist = eng.columns.to_list()"
   ]
  },
  {
   "cell_type": "markdown",
   "metadata": {},
   "source": [
    "Set the foreign language column headers to English, so they can be appended together"
   ]
  },
  {
   "cell_type": "code",
   "execution_count": 330,
   "metadata": {
    "collapsed": true
   },
   "outputs": [],
   "source": [
    "fr.columns=collist\n",
    "sp.columns=collist\n",
    "#fr = fr.rename(columns=[collist])\n"
   ]
  },
  {
   "cell_type": "markdown",
   "metadata": {},
   "source": [
    "Append all the dataframes\n",
    "\n",
    "Also rename the country column to Country"
   ]
  },
  {
   "cell_type": "code",
   "execution_count": 331,
   "metadata": {
    "collapsed": true
   },
   "outputs": [],
   "source": [
    "df = pd.DataFrame()\n",
    "df = eng.copy() \n",
    "df = df.append(sp)\n",
    "df = df.append(fr)\n",
    "df = df.rename(columns={\"1.1 Select the country* about which you are completing this survey: *List from&nbsp;World Health Organization&nbsp;country list. If you do not see your country, please select 'other' at the end of the list.\": \"Country\"})"
   ]
  },
  {
   "cell_type": "markdown",
   "metadata": {},
   "source": [
    "# Apply region mapping"
   ]
  },
  {
   "cell_type": "markdown",
   "metadata": {},
   "source": [
    "## To do list"
   ]
  },
  {
   "cell_type": "markdown",
   "metadata": {},
   "source": [
    "* Once Macedonia comes in, the name will be wrong bc of redcap using 'former republic of yugoslavia'. Needs to be changed programatically to North Macedonia"
   ]
  },
  {
   "cell_type": "markdown",
   "metadata": {},
   "source": [
    "## Identify regions with free text"
   ]
  },
  {
   "cell_type": "markdown",
   "metadata": {},
   "source": [
    "Which countries are not selected in the drop down? These won't be mapped to region, as region is based on the column 'Country'"
   ]
  },
  {
   "cell_type": "code",
   "execution_count": 332,
   "metadata": {
    "collapsed": false,
    "scrolled": true
   },
   "outputs": [
    {
     "data": {
      "text/html": [
       "<div>\n",
       "<style scoped>\n",
       "    .dataframe tbody tr th:only-of-type {\n",
       "        vertical-align: middle;\n",
       "    }\n",
       "\n",
       "    .dataframe tbody tr th {\n",
       "        vertical-align: top;\n",
       "    }\n",
       "\n",
       "    .dataframe thead th {\n",
       "        text-align: right;\n",
       "    }\n",
       "</style>\n",
       "<table border=\"1\" class=\"dataframe\">\n",
       "  <thead>\n",
       "    <tr style=\"text-align: right;\">\n",
       "      <th></th>\n",
       "      <th>Country</th>\n",
       "      <th>1.1.2 What is the name of your country?</th>\n",
       "    </tr>\n",
       "  </thead>\n",
       "  <tbody>\n",
       "    <tr>\n",
       "      <th>2</th>\n",
       "      <td>Your Country (Other)</td>\n",
       "      <td>Serbia</td>\n",
       "    </tr>\n",
       "    <tr>\n",
       "      <th>51</th>\n",
       "      <td>Your Country (Other)</td>\n",
       "      <td>Taiwan, Republic of China</td>\n",
       "    </tr>\n",
       "    <tr>\n",
       "      <th>127</th>\n",
       "      <td>Your Country (Other)</td>\n",
       "      <td>Singapore</td>\n",
       "    </tr>\n",
       "  </tbody>\n",
       "</table>\n",
       "</div>"
      ],
      "text/plain": [
       "                  Country 1.1.2 What is the name of your country?\n",
       "2    Your Country (Other)                                  Serbia\n",
       "51   Your Country (Other)               Taiwan, Republic of China\n",
       "127  Your Country (Other)                               Singapore"
      ]
     },
     "execution_count": 332,
     "metadata": {},
     "output_type": "execute_result"
    }
   ],
   "source": [
    "df[['Country','1.1.2 What is the name of your country?']][pd.notnull(df['1.1.2 What is the name of your country?'])]"
   ]
  },
  {
   "cell_type": "markdown",
   "metadata": {},
   "source": [
    "If \"1.1.2 What is the name of your country?\" is notnull, copy the value to \"Country\", so region can be applied"
   ]
  },
  {
   "cell_type": "code",
   "execution_count": 333,
   "metadata": {
    "collapsed": true
   },
   "outputs": [],
   "source": [
    "df['Country'] = df.apply(lambda x: x['1.1.2 What is the name of your country?'] if pd.notnull(x['1.1.2 What is the name of your country?']) else x['Country'], axis=1)\n"
   ]
  },
  {
   "cell_type": "markdown",
   "metadata": {},
   "source": [
    "Now we merge with the \"Region\" dataframe, on Country, to map the countries to region"
   ]
  },
  {
   "cell_type": "code",
   "execution_count": 334,
   "metadata": {
    "collapsed": true
   },
   "outputs": [],
   "source": [
    "df = df.merge(regions, how='left', on=\"Country\", indicator=True)"
   ]
  },
  {
   "cell_type": "markdown",
   "metadata": {},
   "source": [
    "Check again to see if countries with free text are now copied to 'Country' column, and if any countries are not mapped to Region"
   ]
  },
  {
   "cell_type": "code",
   "execution_count": 335,
   "metadata": {
    "collapsed": false,
    "scrolled": true
   },
   "outputs": [
    {
     "data": {
      "text/html": [
       "<div>\n",
       "<style scoped>\n",
       "    .dataframe tbody tr th:only-of-type {\n",
       "        vertical-align: middle;\n",
       "    }\n",
       "\n",
       "    .dataframe tbody tr th {\n",
       "        vertical-align: top;\n",
       "    }\n",
       "\n",
       "    .dataframe thead th {\n",
       "        text-align: right;\n",
       "    }\n",
       "</style>\n",
       "<table border=\"1\" class=\"dataframe\">\n",
       "  <thead>\n",
       "    <tr style=\"text-align: right;\">\n",
       "      <th></th>\n",
       "      <th>Country</th>\n",
       "      <th>1.1.2 What is the name of your country?</th>\n",
       "      <th>Region</th>\n",
       "    </tr>\n",
       "  </thead>\n",
       "  <tbody>\n",
       "    <tr>\n",
       "      <th>2</th>\n",
       "      <td>Serbia</td>\n",
       "      <td>Serbia</td>\n",
       "      <td>European Region</td>\n",
       "    </tr>\n",
       "    <tr>\n",
       "      <th>51</th>\n",
       "      <td>Taiwan, Republic of China</td>\n",
       "      <td>Taiwan, Republic of China</td>\n",
       "      <td>Western Pacific Region</td>\n",
       "    </tr>\n",
       "    <tr>\n",
       "      <th>127</th>\n",
       "      <td>Singapore</td>\n",
       "      <td>Singapore</td>\n",
       "      <td>Western Pacific Region</td>\n",
       "    </tr>\n",
       "  </tbody>\n",
       "</table>\n",
       "</div>"
      ],
      "text/plain": [
       "                       Country 1.1.2 What is the name of your country?  \\\n",
       "2                       Serbia                                  Serbia   \n",
       "51   Taiwan, Republic of China               Taiwan, Republic of China   \n",
       "127                  Singapore                               Singapore   \n",
       "\n",
       "                     Region  \n",
       "2           European Region  \n",
       "51   Western Pacific Region  \n",
       "127  Western Pacific Region  "
      ]
     },
     "execution_count": 335,
     "metadata": {},
     "output_type": "execute_result"
    }
   ],
   "source": [
    "df[['Country','1.1.2 What is the name of your country?','Region']][pd.notnull(df['1.1.2 What is the name of your country?'])]"
   ]
  },
  {
   "cell_type": "markdown",
   "metadata": {},
   "source": [
    "## Identify countries with no region mapping"
   ]
  },
  {
   "cell_type": "code",
   "execution_count": 336,
   "metadata": {
    "collapsed": false
   },
   "outputs": [
    {
     "data": {
      "text/html": [
       "<div>\n",
       "<style scoped>\n",
       "    .dataframe tbody tr th:only-of-type {\n",
       "        vertical-align: middle;\n",
       "    }\n",
       "\n",
       "    .dataframe tbody tr th {\n",
       "        vertical-align: top;\n",
       "    }\n",
       "\n",
       "    .dataframe thead th {\n",
       "        text-align: right;\n",
       "    }\n",
       "</style>\n",
       "<table border=\"1\" class=\"dataframe\">\n",
       "  <thead>\n",
       "    <tr style=\"text-align: right;\">\n",
       "      <th></th>\n",
       "      <th>Country</th>\n",
       "      <th>Region</th>\n",
       "    </tr>\n",
       "  </thead>\n",
       "  <tbody>\n",
       "    <tr>\n",
       "      <th>50</th>\n",
       "      <td>NaN</td>\n",
       "      <td>NaN</td>\n",
       "    </tr>\n",
       "    <tr>\n",
       "      <th>66</th>\n",
       "      <td>NaN</td>\n",
       "      <td>NaN</td>\n",
       "    </tr>\n",
       "    <tr>\n",
       "      <th>111</th>\n",
       "      <td>NaN</td>\n",
       "      <td>NaN</td>\n",
       "    </tr>\n",
       "    <tr>\n",
       "      <th>117</th>\n",
       "      <td>NaN</td>\n",
       "      <td>NaN</td>\n",
       "    </tr>\n",
       "    <tr>\n",
       "      <th>120</th>\n",
       "      <td>NaN</td>\n",
       "      <td>NaN</td>\n",
       "    </tr>\n",
       "    <tr>\n",
       "      <th>122</th>\n",
       "      <td>NaN</td>\n",
       "      <td>NaN</td>\n",
       "    </tr>\n",
       "    <tr>\n",
       "      <th>128</th>\n",
       "      <td>NaN</td>\n",
       "      <td>NaN</td>\n",
       "    </tr>\n",
       "    <tr>\n",
       "      <th>132</th>\n",
       "      <td>NaN</td>\n",
       "      <td>NaN</td>\n",
       "    </tr>\n",
       "    <tr>\n",
       "      <th>139</th>\n",
       "      <td>NaN</td>\n",
       "      <td>NaN</td>\n",
       "    </tr>\n",
       "    <tr>\n",
       "      <th>146</th>\n",
       "      <td>NaN</td>\n",
       "      <td>NaN</td>\n",
       "    </tr>\n",
       "    <tr>\n",
       "      <th>148</th>\n",
       "      <td>NaN</td>\n",
       "      <td>NaN</td>\n",
       "    </tr>\n",
       "    <tr>\n",
       "      <th>152</th>\n",
       "      <td>NaN</td>\n",
       "      <td>NaN</td>\n",
       "    </tr>\n",
       "    <tr>\n",
       "      <th>153</th>\n",
       "      <td>NaN</td>\n",
       "      <td>NaN</td>\n",
       "    </tr>\n",
       "    <tr>\n",
       "      <th>154</th>\n",
       "      <td>NaN</td>\n",
       "      <td>NaN</td>\n",
       "    </tr>\n",
       "  </tbody>\n",
       "</table>\n",
       "</div>"
      ],
      "text/plain": [
       "    Country Region\n",
       "50      NaN    NaN\n",
       "66      NaN    NaN\n",
       "111     NaN    NaN\n",
       "117     NaN    NaN\n",
       "120     NaN    NaN\n",
       "122     NaN    NaN\n",
       "128     NaN    NaN\n",
       "132     NaN    NaN\n",
       "139     NaN    NaN\n",
       "146     NaN    NaN\n",
       "148     NaN    NaN\n",
       "152     NaN    NaN\n",
       "153     NaN    NaN\n",
       "154     NaN    NaN"
      ]
     },
     "execution_count": 336,
     "metadata": {},
     "output_type": "execute_result"
    }
   ],
   "source": [
    "df[['Country','Region']][pd.isnull(df['Region'])]"
   ]
  },
  {
   "cell_type": "markdown",
   "metadata": {},
   "source": [
    "## Export to CSV"
   ]
  },
  {
   "cell_type": "code",
   "execution_count": 337,
   "metadata": {
    "collapsed": true
   },
   "outputs": [],
   "source": [
    "df.to_csv('current gaws.csv', index=False)"
   ]
  },
  {
   "cell_type": "code",
   "execution_count": 338,
   "metadata": {
    "collapsed": true
   },
   "outputs": [],
   "source": [
    "df.iloc[:,3]\n",
    "col_date = 2\n",
    "col_country = 3\n",
    "col_contributor = 6\n",
    "col_papnum = 17 # num of PAPs\n",
    "col_pap_nonspec = 29 #num of nonspecialist npaps\n",
    "col_nursenum = 43 #num of nurse providers\n",
    "col_nurse2num = 58 # num of nurse providers (2nd type)\n",
    "col_nurse3num = 73 # num of nurse providers (3rd type)\n",
    "col_nurse4num = 88 # num of nurse providers (4th type)\n",
    "col_npapnum = 100 # num of NPAP providers\n",
    "col_region = 122"
   ]
  },
  {
   "cell_type": "markdown",
   "metadata": {},
   "source": [
    "Export subset table to csv for display on webpage"
   ]
  },
  {
   "cell_type": "code",
   "execution_count": 339,
   "metadata": {
    "collapsed": false,
    "scrolled": true
   },
   "outputs": [],
   "source": [
    "t1 = df.iloc[:,[col_date,col_region,col_country,col_contributor,col_papnum , col_pap_nonspec , col_nursenum , col_nurse2num , col_nurse3num, col_nurse4num , col_npapnum ]]\n",
    "tempcollist = ['Date completed', 'Region','Country','Contributor','# PAPs','# Nonspecialty PAPs','# Nurse1','# Nurse 2','#Nurse 3', '# Nurse 4','# NPAPs']\n",
    "t1.columns = tempcollist\n",
    "t1.to_csv('maintable.csv', index=False)"
   ]
  },
  {
   "cell_type": "markdown",
   "metadata": {},
   "source": [
    "# Number completed by region (PAPs only, nonPAPs only, or none)"
   ]
  },
  {
   "cell_type": "markdown",
   "metadata": {},
   "source": [
    "First find if each record has data for PAP, nurses, or NPAPs"
   ]
  },
  {
   "cell_type": "code",
   "execution_count": 340,
   "metadata": {
    "collapsed": true
   },
   "outputs": [],
   "source": [
    "newvarlist = ['haspap','haspap_nonspec','hasnurse1', 'hasnurse2','hasnurse3','hasnurse4', 'hasnpap']\n",
    "columnlist = [col_papnum,col_pap_nonspec, col_nursenum, col_nurse2num, col_nurse3num, col_nurse4num, col_npapnum]\n",
    "\n",
    "for i,j in zip(newvarlist,columnlist):\n",
    "    df[i] = np.where(df.iloc[:,j] >0, 1, 0)"
   ]
  },
  {
   "cell_type": "markdown",
   "metadata": {},
   "source": [
    "Next, get list of countries with PAPs, with nurses, or with NPAPs, and make them lists"
   ]
  },
  {
   "cell_type": "code",
   "execution_count": 341,
   "metadata": {
    "collapsed": true
   },
   "outputs": [],
   "source": [
    "haspap_true = df['Country'][(df['haspap'] == 1)|(df['haspap_nonspec'])].to_list()\n",
    "hasnpap_true = df['Country'][(df['hasnurse1'] == 1)|(df['hasnurse2'] == 1)|(df['hasnurse3']==1)|(df['hasnurse4']==1)|(df['hasnpap']==1)].to_list()"
   ]
  },
  {
   "cell_type": "markdown",
   "metadata": {},
   "source": [
    "Function that takes the 'regions' file with all countries and checks if that country is in the NPAP list, PAP list, or both, or neither"
   ]
  },
  {
   "cell_type": "code",
   "execution_count": 342,
   "metadata": {
    "collapsed": true
   },
   "outputs": [],
   "source": [
    "# 1 = has pap only\n",
    "# 2 = has nurse/npap only\n",
    "# 3 = has both\n",
    "# 0 = has neither\n",
    "\n",
    "def providertype(var):\n",
    "    if (var in haspap_true) & (var in hasnpap_true):\n",
    "        return 3\n",
    "    elif (var in haspap_true) & (var not in hasnpap_true):\n",
    "        return 1\n",
    "    elif (var not in haspap_true) & (var in hasnpap_true):\n",
    "        return 2\n",
    "    else:\n",
    "        return 0\n",
    "\n",
    "regions['provider type'] = regions['Country'].apply(providertype)"
   ]
  },
  {
   "cell_type": "code",
   "execution_count": 343,
   "metadata": {
    "collapsed": false,
    "scrolled": true
   },
   "outputs": [
    {
     "data": {
      "text/html": [
       "<div>\n",
       "<style scoped>\n",
       "    .dataframe tbody tr th:only-of-type {\n",
       "        vertical-align: middle;\n",
       "    }\n",
       "\n",
       "    .dataframe tbody tr th {\n",
       "        vertical-align: top;\n",
       "    }\n",
       "\n",
       "    .dataframe thead th {\n",
       "        text-align: right;\n",
       "    }\n",
       "</style>\n",
       "<table border=\"1\" class=\"dataframe\">\n",
       "  <thead>\n",
       "    <tr style=\"text-align: right;\">\n",
       "      <th></th>\n",
       "      <th>Region</th>\n",
       "      <th>Country</th>\n",
       "      <th>Country_iso</th>\n",
       "      <th>provider type</th>\n",
       "    </tr>\n",
       "  </thead>\n",
       "  <tbody>\n",
       "    <tr>\n",
       "      <th>14</th>\n",
       "      <td>South-East Asia Region</td>\n",
       "      <td>Bangladesh</td>\n",
       "      <td>BGD</td>\n",
       "      <td>1</td>\n",
       "    </tr>\n",
       "    <tr>\n",
       "      <th>21</th>\n",
       "      <td>South-East Asia Region</td>\n",
       "      <td>Bhutan</td>\n",
       "      <td>BTN</td>\n",
       "      <td>3</td>\n",
       "    </tr>\n",
       "    <tr>\n",
       "      <th>80</th>\n",
       "      <td>South-East Asia Region</td>\n",
       "      <td>India</td>\n",
       "      <td>IND</td>\n",
       "      <td>1</td>\n",
       "    </tr>\n",
       "    <tr>\n",
       "      <th>81</th>\n",
       "      <td>South-East Asia Region</td>\n",
       "      <td>Indonesia</td>\n",
       "      <td>IDN</td>\n",
       "      <td>3</td>\n",
       "    </tr>\n",
       "    <tr>\n",
       "      <th>110</th>\n",
       "      <td>South-East Asia Region</td>\n",
       "      <td>Maldives</td>\n",
       "      <td>MDV</td>\n",
       "      <td>1</td>\n",
       "    </tr>\n",
       "    <tr>\n",
       "      <th>122</th>\n",
       "      <td>South-East Asia Region</td>\n",
       "      <td>Myanmar</td>\n",
       "      <td>MMR</td>\n",
       "      <td>0</td>\n",
       "    </tr>\n",
       "    <tr>\n",
       "      <th>125</th>\n",
       "      <td>South-East Asia Region</td>\n",
       "      <td>Nepal</td>\n",
       "      <td>NPL</td>\n",
       "      <td>1</td>\n",
       "    </tr>\n",
       "    <tr>\n",
       "      <th>166</th>\n",
       "      <td>South-East Asia Region</td>\n",
       "      <td>Sri Lanka</td>\n",
       "      <td>LKA</td>\n",
       "      <td>1</td>\n",
       "    </tr>\n",
       "    <tr>\n",
       "      <th>176</th>\n",
       "      <td>South-East Asia Region</td>\n",
       "      <td>Thailand</td>\n",
       "      <td>THA</td>\n",
       "      <td>3</td>\n",
       "    </tr>\n",
       "    <tr>\n",
       "      <th>177</th>\n",
       "      <td>South-East Asia Region</td>\n",
       "      <td>Timor-Leste</td>\n",
       "      <td>TLS</td>\n",
       "      <td>3</td>\n",
       "    </tr>\n",
       "  </tbody>\n",
       "</table>\n",
       "</div>"
      ],
      "text/plain": [
       "                     Region      Country Country_iso  provider type\n",
       "14   South-East Asia Region   Bangladesh         BGD              1\n",
       "21   South-East Asia Region       Bhutan         BTN              3\n",
       "80   South-East Asia Region        India         IND              1\n",
       "81   South-East Asia Region    Indonesia         IDN              3\n",
       "110  South-East Asia Region     Maldives         MDV              1\n",
       "122  South-East Asia Region      Myanmar         MMR              0\n",
       "125  South-East Asia Region        Nepal         NPL              1\n",
       "166  South-East Asia Region    Sri Lanka         LKA              1\n",
       "176  South-East Asia Region     Thailand         THA              3\n",
       "177  South-East Asia Region  Timor-Leste         TLS              3"
      ]
     },
     "execution_count": 343,
     "metadata": {},
     "output_type": "execute_result"
    }
   ],
   "source": [
    "# sample display of regions mapped to Western Pacific, with provider type\n",
    "regions[regions['Region']=='South-East Asia Region']"
   ]
  },
  {
   "cell_type": "code",
   "execution_count": 344,
   "metadata": {
    "collapsed": true
   },
   "outputs": [],
   "source": [
    "regions.to_csv('haspap.csv', index = False)"
   ]
  },
  {
   "cell_type": "markdown",
   "metadata": {},
   "source": [
    "# Datatable mockup"
   ]
  },
  {
   "cell_type": "markdown",
   "metadata": {},
   "source": [
    "# View last added rows of df. Compare to Tableau"
   ]
  },
  {
   "cell_type": "code",
   "execution_count": 345,
   "metadata": {
    "collapsed": false,
    "scrolled": true
   },
   "outputs": [
    {
     "data": {
      "text/html": [
       "<div>\n",
       "<style scoped>\n",
       "    .dataframe tbody tr th:only-of-type {\n",
       "        vertical-align: middle;\n",
       "    }\n",
       "\n",
       "    .dataframe tbody tr th {\n",
       "        vertical-align: top;\n",
       "    }\n",
       "\n",
       "    .dataframe thead th {\n",
       "        text-align: right;\n",
       "    }\n",
       "</style>\n",
       "<table border=\"1\" class=\"dataframe\">\n",
       "  <thead>\n",
       "    <tr style=\"text-align: right;\">\n",
       "      <th></th>\n",
       "      <th>Record ID</th>\n",
       "      <th>Survey Identifier</th>\n",
       "      <th>Survey Timestamp</th>\n",
       "      <th>1.1 Select the country* about which you are completing this survey: *List from&amp;nbsp;World Health Organization&amp;nbsp;country list. If you do not see your country, please select 'other' at the end of the list.</th>\n",
       "      <th>1.1.2 What is the name of your country?</th>\n",
       "      <th>1.2 Are are you interested in being a collaborator in the&amp;nbsp;Global Anesthesia Workforce Study Group (GAWS)? (To be co-author on GAWS publications, your participation must meet requirements outlined by ICMJE. )</th>\n",
       "      <th>1.3 Please provide your name</th>\n",
       "      <th>1.4 Please provide your email address</th>\n",
       "      <th>1.5 What is your role in the (physician or non-physician) national anesthesia society (or association) of [country] ?</th>\n",
       "      <th>2.1.1 What types of anesthesia providers are currently working in [country]? Select all that apply(Please use provider terminology as defined at the top of this survey) (choice=Certified Specialist Physician Anesthesia Providers (or trainees))</th>\n",
       "      <th>...</th>\n",
       "      <th>How many intensive care medicine specialists are there in [country]? (i.e. total number of physicians who have completed a certified intensive care medicine training program) (Please include both those who have trained in [country] or in another country) (Do not include trainees. Please include both members and non-members of the national society)</th>\n",
       "      <th>How many specialist physician anesthesia providers are there in [country] who have completed a certified intensive care medicine training program?  (Please include both those who have trained in [country] or in another country)</th>\n",
       "      <th>In your opinion, is the intensive care medicine training provided during specialist physician anesthesia training (i.e. residency) in [country] sufficient for a graduate to function autonomously as an intensive care medicine provider?</th>\n",
       "      <th>Is there a certified training pathway for becoming an intensive care nurse in [country]?</th>\n",
       "      <th>Which of the following training pathways for becoming an intensive care nurse exist in [country]: (select all true statement)     (choice=Dedicated intensive care training program after completion of nursing training)</th>\n",
       "      <th>Which of the following training pathways for becoming an intensive care nurse exist in [country]: (select all true statement)     (choice=Intensive care training during nursing training)</th>\n",
       "      <th>Which of the following training pathways for becoming an intensive care nurse exist in [country]: (select all true statement)     (choice=Intensive care training during nurse anesthesia provider training)</th>\n",
       "      <th>Which of the following training pathways for becoming an intensive care nurse exist in [country]: (select all true statement)     (choice=Other)</th>\n",
       "      <th>Please let us know if there is additional information you want to share about the anesthesia or critical care workforce in [country], including any additional anesthesia provider cadres that you have not yet told us about.</th>\n",
       "      <th>Complete?</th>\n",
       "    </tr>\n",
       "  </thead>\n",
       "  <tbody>\n",
       "    <tr>\n",
       "      <th>141</th>\n",
       "      <td>190</td>\n",
       "      <td>NaN</td>\n",
       "      <td>2021-08-25 17:39:13</td>\n",
       "      <td>Samoa</td>\n",
       "      <td>NaN</td>\n",
       "      <td>No</td>\n",
       "      <td>Fa'amuamua Arasi</td>\n",
       "      <td>fbarasi@protonmail.com</td>\n",
       "      <td>Member and part of leadership</td>\n",
       "      <td>Checked</td>\n",
       "      <td>...</td>\n",
       "      <td>0.0</td>\n",
       "      <td>4.0</td>\n",
       "      <td>No</td>\n",
       "      <td>No</td>\n",
       "      <td>Unchecked</td>\n",
       "      <td>Unchecked</td>\n",
       "      <td>Unchecked</td>\n",
       "      <td>Unchecked</td>\n",
       "      <td>Thank you</td>\n",
       "      <td>Complete</td>\n",
       "    </tr>\n",
       "    <tr>\n",
       "      <th>142</th>\n",
       "      <td>191</td>\n",
       "      <td>NaN</td>\n",
       "      <td>[not completed]</td>\n",
       "      <td>Croatia</td>\n",
       "      <td>NaN</td>\n",
       "      <td>Yes</td>\n",
       "      <td>Josip Brusic</td>\n",
       "      <td>josip.brusic2@ri.t-com.hr</td>\n",
       "      <td>Member and part of leadership</td>\n",
       "      <td>Checked</td>\n",
       "      <td>...</td>\n",
       "      <td>NaN</td>\n",
       "      <td>NaN</td>\n",
       "      <td>NaN</td>\n",
       "      <td>NaN</td>\n",
       "      <td>Unchecked</td>\n",
       "      <td>Unchecked</td>\n",
       "      <td>Unchecked</td>\n",
       "      <td>Unchecked</td>\n",
       "      <td>NaN</td>\n",
       "      <td>Incomplete</td>\n",
       "    </tr>\n",
       "    <tr>\n",
       "      <th>143</th>\n",
       "      <td>192</td>\n",
       "      <td>NaN</td>\n",
       "      <td>2021-08-25 14:26:27</td>\n",
       "      <td>Nauru</td>\n",
       "      <td>NaN</td>\n",
       "      <td>No</td>\n",
       "      <td>Pavlo Zelenin</td>\n",
       "      <td>pavelzelenin1965@gmail.com</td>\n",
       "      <td>Member but not part of leadership</td>\n",
       "      <td>Checked</td>\n",
       "      <td>...</td>\n",
       "      <td>0.0</td>\n",
       "      <td>1.0</td>\n",
       "      <td>No</td>\n",
       "      <td>No</td>\n",
       "      <td>Unchecked</td>\n",
       "      <td>Unchecked</td>\n",
       "      <td>Unchecked</td>\n",
       "      <td>Unchecked</td>\n",
       "      <td>NaN</td>\n",
       "      <td>Complete</td>\n",
       "    </tr>\n",
       "    <tr>\n",
       "      <th>144</th>\n",
       "      <td>193</td>\n",
       "      <td>NaN</td>\n",
       "      <td>2021-08-26 03:49:39</td>\n",
       "      <td>Croatia</td>\n",
       "      <td>NaN</td>\n",
       "      <td>Yes</td>\n",
       "      <td>Josip Brusic</td>\n",
       "      <td>josip.brusic2@ri.t-com.hr</td>\n",
       "      <td>Member and part of leadership</td>\n",
       "      <td>Checked</td>\n",
       "      <td>...</td>\n",
       "      <td>412.0</td>\n",
       "      <td>412.0</td>\n",
       "      <td>Yes</td>\n",
       "      <td>No</td>\n",
       "      <td>Unchecked</td>\n",
       "      <td>Unchecked</td>\n",
       "      <td>Unchecked</td>\n",
       "      <td>Unchecked</td>\n",
       "      <td>yes</td>\n",
       "      <td>Complete</td>\n",
       "    </tr>\n",
       "    <tr>\n",
       "      <th>145</th>\n",
       "      <td>194</td>\n",
       "      <td>NaN</td>\n",
       "      <td>2021-08-26 11:46:54</td>\n",
       "      <td>Croatia</td>\n",
       "      <td>NaN</td>\n",
       "      <td>Yes</td>\n",
       "      <td>Josip Brusic</td>\n",
       "      <td>josip.brusic2@ri.t-com.hr</td>\n",
       "      <td>Member and part of leadership</td>\n",
       "      <td>Checked</td>\n",
       "      <td>...</td>\n",
       "      <td>290.0</td>\n",
       "      <td>0.0</td>\n",
       "      <td>Yes</td>\n",
       "      <td>No</td>\n",
       "      <td>Unchecked</td>\n",
       "      <td>Unchecked</td>\n",
       "      <td>Unchecked</td>\n",
       "      <td>Unchecked</td>\n",
       "      <td>Yes</td>\n",
       "      <td>Complete</td>\n",
       "    </tr>\n",
       "  </tbody>\n",
       "</table>\n",
       "<p>5 rows × 122 columns</p>\n",
       "</div>"
      ],
      "text/plain": [
       "     Record ID  Survey Identifier     Survey Timestamp  \\\n",
       "141        190                NaN  2021-08-25 17:39:13   \n",
       "142        191                NaN      [not completed]   \n",
       "143        192                NaN  2021-08-25 14:26:27   \n",
       "144        193                NaN  2021-08-26 03:49:39   \n",
       "145        194                NaN  2021-08-26 11:46:54   \n",
       "\n",
       "    1.1 Select the country* about which you are completing this survey: *List from&nbsp;World Health Organization&nbsp;country list. If you do not see your country, please select 'other' at the end of the list.  \\\n",
       "141                                              Samoa                                                                                                                                                               \n",
       "142                                            Croatia                                                                                                                                                               \n",
       "143                                              Nauru                                                                                                                                                               \n",
       "144                                            Croatia                                                                                                                                                               \n",
       "145                                            Croatia                                                                                                                                                               \n",
       "\n",
       "    1.1.2 What is the name of your country?  \\\n",
       "141                                     NaN   \n",
       "142                                     NaN   \n",
       "143                                     NaN   \n",
       "144                                     NaN   \n",
       "145                                     NaN   \n",
       "\n",
       "    1.2 Are are you interested in being a collaborator in the&nbsp;Global Anesthesia Workforce Study Group (GAWS)? (To be co-author on GAWS publications, your participation must meet requirements outlined by ICMJE. )  \\\n",
       "141                                                 No                                                                                                                                                                     \n",
       "142                                                Yes                                                                                                                                                                     \n",
       "143                                                 No                                                                                                                                                                     \n",
       "144                                                Yes                                                                                                                                                                     \n",
       "145                                                Yes                                                                                                                                                                     \n",
       "\n",
       "    1.3 Please provide your name 1.4 Please provide your email address  \\\n",
       "141            Fa'amuamua Arasi                 fbarasi@protonmail.com   \n",
       "142                 Josip Brusic             josip.brusic2@ri.t-com.hr   \n",
       "143                Pavlo Zelenin            pavelzelenin1965@gmail.com   \n",
       "144                 Josip Brusic             josip.brusic2@ri.t-com.hr   \n",
       "145                 Josip Brusic             josip.brusic2@ri.t-com.hr   \n",
       "\n",
       "    1.5 What is your role in the (physician or non-physician) national anesthesia society (or association) of [country] ?  \\\n",
       "141                      Member and part of leadership                                                                      \n",
       "142                      Member and part of leadership                                                                      \n",
       "143                  Member but not part of leadership                                                                      \n",
       "144                      Member and part of leadership                                                                      \n",
       "145                      Member and part of leadership                                                                      \n",
       "\n",
       "    2.1.1 What types of anesthesia providers are currently working in [country]? Select all that apply(Please use provider terminology as defined at the top of this survey) (choice=Certified Specialist Physician Anesthesia Providers (or trainees))  \\\n",
       "141                                            Checked                                                                                                                                                                                                    \n",
       "142                                            Checked                                                                                                                                                                                                    \n",
       "143                                            Checked                                                                                                                                                                                                    \n",
       "144                                            Checked                                                                                                                                                                                                    \n",
       "145                                            Checked                                                                                                                                                                                                    \n",
       "\n",
       "     ...  \\\n",
       "141  ...   \n",
       "142  ...   \n",
       "143  ...   \n",
       "144  ...   \n",
       "145  ...   \n",
       "\n",
       "    How many intensive care medicine specialists are there in [country]? (i.e. total number of physicians who have completed a certified intensive care medicine training program) (Please include both those who have trained in [country] or in another country) (Do not include trainees. Please include both members and non-members of the national society)  \\\n",
       "141                                                0.0                                                                                                                                                                                                                                                                                                              \n",
       "142                                                NaN                                                                                                                                                                                                                                                                                                              \n",
       "143                                                0.0                                                                                                                                                                                                                                                                                                              \n",
       "144                                              412.0                                                                                                                                                                                                                                                                                                              \n",
       "145                                              290.0                                                                                                                                                                                                                                                                                                              \n",
       "\n",
       "    How many specialist physician anesthesia providers are there in [country] who have completed a certified intensive care medicine training program?  (Please include both those who have trained in [country] or in another country)  \\\n",
       "141                                                4.0                                                                                                                                                                                    \n",
       "142                                                NaN                                                                                                                                                                                    \n",
       "143                                                1.0                                                                                                                                                                                    \n",
       "144                                              412.0                                                                                                                                                                                    \n",
       "145                                                0.0                                                                                                                                                                                    \n",
       "\n",
       "    In your opinion, is the intensive care medicine training provided during specialist physician anesthesia training (i.e. residency) in [country] sufficient for a graduate to function autonomously as an intensive care medicine provider?  \\\n",
       "141                                                 No                                                                                                                                                                                           \n",
       "142                                                NaN                                                                                                                                                                                           \n",
       "143                                                 No                                                                                                                                                                                           \n",
       "144                                                Yes                                                                                                                                                                                           \n",
       "145                                                Yes                                                                                                                                                                                           \n",
       "\n",
       "    Is there a certified training pathway for becoming an intensive care nurse in [country]?   \\\n",
       "141                                                 No                                          \n",
       "142                                                NaN                                          \n",
       "143                                                 No                                          \n",
       "144                                                 No                                          \n",
       "145                                                 No                                          \n",
       "\n",
       "    Which of the following training pathways for becoming an intensive care nurse exist in [country]: (select all true statement)     (choice=Dedicated intensive care training program after completion of nursing training)  \\\n",
       "141                                          Unchecked                                                                                                                                                                          \n",
       "142                                          Unchecked                                                                                                                                                                          \n",
       "143                                          Unchecked                                                                                                                                                                          \n",
       "144                                          Unchecked                                                                                                                                                                          \n",
       "145                                          Unchecked                                                                                                                                                                          \n",
       "\n",
       "    Which of the following training pathways for becoming an intensive care nurse exist in [country]: (select all true statement)     (choice=Intensive care training during nursing training)  \\\n",
       "141                                          Unchecked                                                                                                                                           \n",
       "142                                          Unchecked                                                                                                                                           \n",
       "143                                          Unchecked                                                                                                                                           \n",
       "144                                          Unchecked                                                                                                                                           \n",
       "145                                          Unchecked                                                                                                                                           \n",
       "\n",
       "    Which of the following training pathways for becoming an intensive care nurse exist in [country]: (select all true statement)     (choice=Intensive care training during nurse anesthesia provider training)  \\\n",
       "141                                          Unchecked                                                                                                                                                             \n",
       "142                                          Unchecked                                                                                                                                                             \n",
       "143                                          Unchecked                                                                                                                                                             \n",
       "144                                          Unchecked                                                                                                                                                             \n",
       "145                                          Unchecked                                                                                                                                                             \n",
       "\n",
       "     Which of the following training pathways for becoming an intensive care nurse exist in [country]: (select all true statement)     (choice=Other)  \\\n",
       "141                                          Unchecked                                                                                                  \n",
       "142                                          Unchecked                                                                                                  \n",
       "143                                          Unchecked                                                                                                  \n",
       "144                                          Unchecked                                                                                                  \n",
       "145                                          Unchecked                                                                                                  \n",
       "\n",
       "     Please let us know if there is additional information you want to share about the anesthesia or critical care workforce in [country], including any additional anesthesia provider cadres that you have not yet told us about.  \\\n",
       "141                                          Thank you                                                                                                                                                                                \n",
       "142                                                NaN                                                                                                                                                                                \n",
       "143                                                NaN                                                                                                                                                                                \n",
       "144                                                yes                                                                                                                                                                                \n",
       "145                                                Yes                                                                                                                                                                                \n",
       "\n",
       "      Complete?  \n",
       "141    Complete  \n",
       "142  Incomplete  \n",
       "143    Complete  \n",
       "144    Complete  \n",
       "145    Complete  \n",
       "\n",
       "[5 rows x 122 columns]"
      ]
     },
     "execution_count": 345,
     "metadata": {},
     "output_type": "execute_result"
    }
   ],
   "source": [
    "eng.tail()"
   ]
  },
  {
   "cell_type": "code",
   "execution_count": 346,
   "metadata": {
    "collapsed": false,
    "scrolled": true
   },
   "outputs": [
    {
     "data": {
      "text/html": [
       "<div>\n",
       "<style scoped>\n",
       "    .dataframe tbody tr th:only-of-type {\n",
       "        vertical-align: middle;\n",
       "    }\n",
       "\n",
       "    .dataframe tbody tr th {\n",
       "        vertical-align: top;\n",
       "    }\n",
       "\n",
       "    .dataframe thead th {\n",
       "        text-align: right;\n",
       "    }\n",
       "</style>\n",
       "<table border=\"1\" class=\"dataframe\">\n",
       "  <thead>\n",
       "    <tr style=\"text-align: right;\">\n",
       "      <th></th>\n",
       "      <th>Record ID</th>\n",
       "      <th>Survey Identifier</th>\n",
       "      <th>Survey Timestamp</th>\n",
       "      <th>1.1 Select the country* about which you are completing this survey: *List from&amp;nbsp;World Health Organization&amp;nbsp;country list. If you do not see your country, please select 'other' at the end of the list.</th>\n",
       "      <th>1.1.2 What is the name of your country?</th>\n",
       "      <th>1.2 Are are you interested in being a collaborator in the&amp;nbsp;Global Anesthesia Workforce Study Group (GAWS)? (To be co-author on GAWS publications, your participation must meet requirements outlined by ICMJE. )</th>\n",
       "      <th>1.3 Please provide your name</th>\n",
       "      <th>1.4 Please provide your email address</th>\n",
       "      <th>1.5 What is your role in the (physician or non-physician) national anesthesia society (or association) of [country] ?</th>\n",
       "      <th>2.1.1 What types of anesthesia providers are currently working in [country]? Select all that apply(Please use provider terminology as defined at the top of this survey) (choice=Certified Specialist Physician Anesthesia Providers (or trainees))</th>\n",
       "      <th>...</th>\n",
       "      <th>How many intensive care medicine specialists are there in [country]? (i.e. total number of physicians who have completed a certified intensive care medicine training program) (Please include both those who have trained in [country] or in another country) (Do not include trainees. Please include both members and non-members of the national society)</th>\n",
       "      <th>How many specialist physician anesthesia providers are there in [country] who have completed a certified intensive care medicine training program?  (Please include both those who have trained in [country] or in another country)</th>\n",
       "      <th>In your opinion, is the intensive care medicine training provided during specialist physician anesthesia training (i.e. residency) in [country] sufficient for a graduate to function autonomously as an intensive care medicine provider?</th>\n",
       "      <th>Is there a certified training pathway for becoming an intensive care nurse in [country]?</th>\n",
       "      <th>Which of the following training pathways for becoming an intensive care nurse exist in [country]: (select all true statement)     (choice=Dedicated intensive care training program after completion of nursing training)</th>\n",
       "      <th>Which of the following training pathways for becoming an intensive care nurse exist in [country]: (select all true statement)     (choice=Intensive care training during nursing training)</th>\n",
       "      <th>Which of the following training pathways for becoming an intensive care nurse exist in [country]: (select all true statement)     (choice=Intensive care training during nurse anesthesia provider training)</th>\n",
       "      <th>Which of the following training pathways for becoming an intensive care nurse exist in [country]: (select all true statement)     (choice=Other)</th>\n",
       "      <th>Please let us know if there is additional information you want to share about the anesthesia or critical care workforce in [country], including any additional anesthesia provider cadres that you have not yet told us about.</th>\n",
       "      <th>Complete?</th>\n",
       "    </tr>\n",
       "  </thead>\n",
       "  <tbody>\n",
       "    <tr>\n",
       "      <th>10</th>\n",
       "      <td>12</td>\n",
       "      <td>NaN</td>\n",
       "      <td>2021-06-10 12:47:02</td>\n",
       "      <td>Burkina Faso</td>\n",
       "      <td>NaN</td>\n",
       "      <td>Yes</td>\n",
       "      <td>KI Kélan Bertille</td>\n",
       "      <td>bertilleki@yahoo.fr</td>\n",
       "      <td>Membre et faisant partie des dirigeants</td>\n",
       "      <td>Checked</td>\n",
       "      <td>...</td>\n",
       "      <td>57.0</td>\n",
       "      <td>57.0</td>\n",
       "      <td>No</td>\n",
       "      <td>Yes</td>\n",
       "      <td>Unchecked</td>\n",
       "      <td>Unchecked</td>\n",
       "      <td>Unchecked</td>\n",
       "      <td>Checked</td>\n",
       "      <td>NaN</td>\n",
       "      <td>Complete</td>\n",
       "    </tr>\n",
       "    <tr>\n",
       "      <th>11</th>\n",
       "      <td>13</td>\n",
       "      <td>NaN</td>\n",
       "      <td>[not completed]</td>\n",
       "      <td>Benin</td>\n",
       "      <td>NaN</td>\n",
       "      <td>No</td>\n",
       "      <td>OROU Jérémie</td>\n",
       "      <td>orjetim@yahoo.fr</td>\n",
       "      <td>Autre</td>\n",
       "      <td>Unchecked</td>\n",
       "      <td>...</td>\n",
       "      <td>NaN</td>\n",
       "      <td>NaN</td>\n",
       "      <td>NaN</td>\n",
       "      <td>NaN</td>\n",
       "      <td>Unchecked</td>\n",
       "      <td>Unchecked</td>\n",
       "      <td>Unchecked</td>\n",
       "      <td>Unchecked</td>\n",
       "      <td>NaN</td>\n",
       "      <td>Incomplete</td>\n",
       "    </tr>\n",
       "    <tr>\n",
       "      <th>12</th>\n",
       "      <td>14</td>\n",
       "      <td>NaN</td>\n",
       "      <td>[not completed]</td>\n",
       "      <td>Benin</td>\n",
       "      <td>NaN</td>\n",
       "      <td>Yes</td>\n",
       "      <td>OROU Jérémie</td>\n",
       "      <td>orjetim@yahoo.fr</td>\n",
       "      <td>Membre sans faire partie des dirigeants</td>\n",
       "      <td>Checked</td>\n",
       "      <td>...</td>\n",
       "      <td>NaN</td>\n",
       "      <td>NaN</td>\n",
       "      <td>NaN</td>\n",
       "      <td>NaN</td>\n",
       "      <td>Unchecked</td>\n",
       "      <td>Unchecked</td>\n",
       "      <td>Unchecked</td>\n",
       "      <td>Unchecked</td>\n",
       "      <td>NaN</td>\n",
       "      <td>Incomplete</td>\n",
       "    </tr>\n",
       "    <tr>\n",
       "      <th>13</th>\n",
       "      <td>15</td>\n",
       "      <td>NaN</td>\n",
       "      <td>2021-07-21 01:55:54</td>\n",
       "      <td>Benin</td>\n",
       "      <td>NaN</td>\n",
       "      <td>Yes</td>\n",
       "      <td>OROU Jérémie</td>\n",
       "      <td>orjetim@yahoo.fr</td>\n",
       "      <td>Membre sans faire partie des dirigeants</td>\n",
       "      <td>Unchecked</td>\n",
       "      <td>...</td>\n",
       "      <td>NaN</td>\n",
       "      <td>NaN</td>\n",
       "      <td>NaN</td>\n",
       "      <td>NaN</td>\n",
       "      <td>Unchecked</td>\n",
       "      <td>Unchecked</td>\n",
       "      <td>Unchecked</td>\n",
       "      <td>Unchecked</td>\n",
       "      <td>Les deux dernières rubriques n'existent pas au...</td>\n",
       "      <td>Complete</td>\n",
       "    </tr>\n",
       "    <tr>\n",
       "      <th>14</th>\n",
       "      <td>16</td>\n",
       "      <td>NaN</td>\n",
       "      <td>2021-08-26 03:31:40</td>\n",
       "      <td>Morocco</td>\n",
       "      <td>NaN</td>\n",
       "      <td>Yes</td>\n",
       "      <td>mouhajir mohamed</td>\n",
       "      <td>mouhajir10@gmail.com</td>\n",
       "      <td>Membre et faisant partie des dirigeants</td>\n",
       "      <td>Checked</td>\n",
       "      <td>...</td>\n",
       "      <td>NaN</td>\n",
       "      <td>NaN</td>\n",
       "      <td>NaN</td>\n",
       "      <td>Yes</td>\n",
       "      <td>Unchecked</td>\n",
       "      <td>Checked</td>\n",
       "      <td>Checked</td>\n",
       "      <td>Unchecked</td>\n",
       "      <td>effectif insuffisant et absence des référentie...</td>\n",
       "      <td>Complete</td>\n",
       "    </tr>\n",
       "  </tbody>\n",
       "</table>\n",
       "<p>5 rows × 122 columns</p>\n",
       "</div>"
      ],
      "text/plain": [
       "    Record ID  Survey Identifier     Survey Timestamp  \\\n",
       "10         12                NaN  2021-06-10 12:47:02   \n",
       "11         13                NaN      [not completed]   \n",
       "12         14                NaN      [not completed]   \n",
       "13         15                NaN  2021-07-21 01:55:54   \n",
       "14         16                NaN  2021-08-26 03:31:40   \n",
       "\n",
       "   1.1 Select the country* about which you are completing this survey: *List from&nbsp;World Health Organization&nbsp;country list. If you do not see your country, please select 'other' at the end of the list.  \\\n",
       "10                                       Burkina Faso                                                                                                                                                               \n",
       "11                                              Benin                                                                                                                                                               \n",
       "12                                              Benin                                                                                                                                                               \n",
       "13                                              Benin                                                                                                                                                               \n",
       "14                                            Morocco                                                                                                                                                               \n",
       "\n",
       "    1.1.2 What is the name of your country?  \\\n",
       "10                                      NaN   \n",
       "11                                      NaN   \n",
       "12                                      NaN   \n",
       "13                                      NaN   \n",
       "14                                      NaN   \n",
       "\n",
       "   1.2 Are are you interested in being a collaborator in the&nbsp;Global Anesthesia Workforce Study Group (GAWS)? (To be co-author on GAWS publications, your participation must meet requirements outlined by ICMJE. )  \\\n",
       "10                                                Yes                                                                                                                                                                     \n",
       "11                                                 No                                                                                                                                                                     \n",
       "12                                                Yes                                                                                                                                                                     \n",
       "13                                                Yes                                                                                                                                                                     \n",
       "14                                                Yes                                                                                                                                                                     \n",
       "\n",
       "   1.3 Please provide your name 1.4 Please provide your email address  \\\n",
       "10            KI Kélan Bertille                   bertilleki@yahoo.fr   \n",
       "11                 OROU Jérémie                      orjetim@yahoo.fr   \n",
       "12                 OROU Jérémie                      orjetim@yahoo.fr   \n",
       "13                 OROU Jérémie                      orjetim@yahoo.fr   \n",
       "14             mouhajir mohamed                  mouhajir10@gmail.com   \n",
       "\n",
       "   1.5 What is your role in the (physician or non-physician) national anesthesia society (or association) of [country] ?  \\\n",
       "10            Membre et faisant partie des dirigeants                                                                      \n",
       "11                                              Autre                                                                      \n",
       "12            Membre sans faire partie des dirigeants                                                                      \n",
       "13            Membre sans faire partie des dirigeants                                                                      \n",
       "14            Membre et faisant partie des dirigeants                                                                      \n",
       "\n",
       "   2.1.1 What types of anesthesia providers are currently working in [country]? Select all that apply(Please use provider terminology as defined at the top of this survey) (choice=Certified Specialist Physician Anesthesia Providers (or trainees))  \\\n",
       "10                                            Checked                                                                                                                                                                                                    \n",
       "11                                          Unchecked                                                                                                                                                                                                    \n",
       "12                                            Checked                                                                                                                                                                                                    \n",
       "13                                          Unchecked                                                                                                                                                                                                    \n",
       "14                                            Checked                                                                                                                                                                                                    \n",
       "\n",
       "    ...  \\\n",
       "10  ...   \n",
       "11  ...   \n",
       "12  ...   \n",
       "13  ...   \n",
       "14  ...   \n",
       "\n",
       "   How many intensive care medicine specialists are there in [country]? (i.e. total number of physicians who have completed a certified intensive care medicine training program) (Please include both those who have trained in [country] or in another country) (Do not include trainees. Please include both members and non-members of the national society)  \\\n",
       "10                                               57.0                                                                                                                                                                                                                                                                                                              \n",
       "11                                                NaN                                                                                                                                                                                                                                                                                                              \n",
       "12                                                NaN                                                                                                                                                                                                                                                                                                              \n",
       "13                                                NaN                                                                                                                                                                                                                                                                                                              \n",
       "14                                                NaN                                                                                                                                                                                                                                                                                                              \n",
       "\n",
       "   How many specialist physician anesthesia providers are there in [country] who have completed a certified intensive care medicine training program?  (Please include both those who have trained in [country] or in another country)  \\\n",
       "10                                               57.0                                                                                                                                                                                    \n",
       "11                                                NaN                                                                                                                                                                                    \n",
       "12                                                NaN                                                                                                                                                                                    \n",
       "13                                                NaN                                                                                                                                                                                    \n",
       "14                                                NaN                                                                                                                                                                                    \n",
       "\n",
       "   In your opinion, is the intensive care medicine training provided during specialist physician anesthesia training (i.e. residency) in [country] sufficient for a graduate to function autonomously as an intensive care medicine provider?  \\\n",
       "10                                                 No                                                                                                                                                                                           \n",
       "11                                                NaN                                                                                                                                                                                           \n",
       "12                                                NaN                                                                                                                                                                                           \n",
       "13                                                NaN                                                                                                                                                                                           \n",
       "14                                                NaN                                                                                                                                                                                           \n",
       "\n",
       "    Is there a certified training pathway for becoming an intensive care nurse in [country]?   \\\n",
       "10                                                Yes                                           \n",
       "11                                                NaN                                           \n",
       "12                                                NaN                                           \n",
       "13                                                NaN                                           \n",
       "14                                                Yes                                           \n",
       "\n",
       "    Which of the following training pathways for becoming an intensive care nurse exist in [country]: (select all true statement)     (choice=Dedicated intensive care training program after completion of nursing training)  \\\n",
       "10                                          Unchecked                                                                                                                                                                           \n",
       "11                                          Unchecked                                                                                                                                                                           \n",
       "12                                          Unchecked                                                                                                                                                                           \n",
       "13                                          Unchecked                                                                                                                                                                           \n",
       "14                                          Unchecked                                                                                                                                                                           \n",
       "\n",
       "    Which of the following training pathways for becoming an intensive care nurse exist in [country]: (select all true statement)     (choice=Intensive care training during nursing training)  \\\n",
       "10                                          Unchecked                                                                                                                                            \n",
       "11                                          Unchecked                                                                                                                                            \n",
       "12                                          Unchecked                                                                                                                                            \n",
       "13                                          Unchecked                                                                                                                                            \n",
       "14                                            Checked                                                                                                                                            \n",
       "\n",
       "    Which of the following training pathways for becoming an intensive care nurse exist in [country]: (select all true statement)     (choice=Intensive care training during nurse anesthesia provider training)  \\\n",
       "10                                          Unchecked                                                                                                                                                              \n",
       "11                                          Unchecked                                                                                                                                                              \n",
       "12                                          Unchecked                                                                                                                                                              \n",
       "13                                          Unchecked                                                                                                                                                              \n",
       "14                                            Checked                                                                                                                                                              \n",
       "\n",
       "    Which of the following training pathways for becoming an intensive care nurse exist in [country]: (select all true statement)     (choice=Other)  \\\n",
       "10                                            Checked                                                                                                  \n",
       "11                                          Unchecked                                                                                                  \n",
       "12                                          Unchecked                                                                                                  \n",
       "13                                          Unchecked                                                                                                  \n",
       "14                                          Unchecked                                                                                                  \n",
       "\n",
       "    Please let us know if there is additional information you want to share about the anesthesia or critical care workforce in [country], including any additional anesthesia provider cadres that you have not yet told us about.  \\\n",
       "10                                                NaN                                                                                                                                                                                \n",
       "11                                                NaN                                                                                                                                                                                \n",
       "12                                                NaN                                                                                                                                                                                \n",
       "13  Les deux dernières rubriques n'existent pas au...                                                                                                                                                                                \n",
       "14  effectif insuffisant et absence des référentie...                                                                                                                                                                                \n",
       "\n",
       "     Complete?  \n",
       "10    Complete  \n",
       "11  Incomplete  \n",
       "12  Incomplete  \n",
       "13    Complete  \n",
       "14    Complete  \n",
       "\n",
       "[5 rows x 122 columns]"
      ]
     },
     "execution_count": 346,
     "metadata": {},
     "output_type": "execute_result"
    }
   ],
   "source": [
    "fr.tail()"
   ]
  },
  {
   "cell_type": "code",
   "execution_count": 347,
   "metadata": {
    "collapsed": false,
    "scrolled": true
   },
   "outputs": [
    {
     "data": {
      "text/html": [
       "<div>\n",
       "<style scoped>\n",
       "    .dataframe tbody tr th:only-of-type {\n",
       "        vertical-align: middle;\n",
       "    }\n",
       "\n",
       "    .dataframe tbody tr th {\n",
       "        vertical-align: top;\n",
       "    }\n",
       "\n",
       "    .dataframe thead th {\n",
       "        text-align: right;\n",
       "    }\n",
       "</style>\n",
       "<table border=\"1\" class=\"dataframe\">\n",
       "  <thead>\n",
       "    <tr style=\"text-align: right;\">\n",
       "      <th></th>\n",
       "      <th>Record ID</th>\n",
       "      <th>Survey Identifier</th>\n",
       "      <th>Survey Timestamp</th>\n",
       "      <th>1.1 Select the country* about which you are completing this survey: *List from&amp;nbsp;World Health Organization&amp;nbsp;country list. If you do not see your country, please select 'other' at the end of the list.</th>\n",
       "      <th>1.1.2 What is the name of your country?</th>\n",
       "      <th>1.2 Are are you interested in being a collaborator in the&amp;nbsp;Global Anesthesia Workforce Study Group (GAWS)? (To be co-author on GAWS publications, your participation must meet requirements outlined by ICMJE. )</th>\n",
       "      <th>1.3 Please provide your name</th>\n",
       "      <th>1.4 Please provide your email address</th>\n",
       "      <th>1.5 What is your role in the (physician or non-physician) national anesthesia society (or association) of [country] ?</th>\n",
       "      <th>2.1.1 What types of anesthesia providers are currently working in [country]? Select all that apply(Please use provider terminology as defined at the top of this survey) (choice=Certified Specialist Physician Anesthesia Providers (or trainees))</th>\n",
       "      <th>...</th>\n",
       "      <th>How many intensive care medicine specialists are there in [country]? (i.e. total number of physicians who have completed a certified intensive care medicine training program) (Please include both those who have trained in [country] or in another country) (Do not include trainees. Please include both members and non-members of the national society)</th>\n",
       "      <th>How many specialist physician anesthesia providers are there in [country] who have completed a certified intensive care medicine training program?  (Please include both those who have trained in [country] or in another country)</th>\n",
       "      <th>In your opinion, is the intensive care medicine training provided during specialist physician anesthesia training (i.e. residency) in [country] sufficient for a graduate to function autonomously as an intensive care medicine provider?</th>\n",
       "      <th>Is there a certified training pathway for becoming an intensive care nurse in [country]?</th>\n",
       "      <th>Which of the following training pathways for becoming an intensive care nurse exist in [country]: (select all true statement)     (choice=Dedicated intensive care training program after completion of nursing training)</th>\n",
       "      <th>Which of the following training pathways for becoming an intensive care nurse exist in [country]: (select all true statement)     (choice=Intensive care training during nursing training)</th>\n",
       "      <th>Which of the following training pathways for becoming an intensive care nurse exist in [country]: (select all true statement)     (choice=Intensive care training during nurse anesthesia provider training)</th>\n",
       "      <th>Which of the following training pathways for becoming an intensive care nurse exist in [country]: (select all true statement)     (choice=Other)</th>\n",
       "      <th>Please let us know if there is additional information you want to share about the anesthesia or critical care workforce in [country], including any additional anesthesia provider cadres that you have not yet told us about.</th>\n",
       "      <th>Complete?</th>\n",
       "    </tr>\n",
       "  </thead>\n",
       "  <tbody>\n",
       "    <tr>\n",
       "      <th>11</th>\n",
       "      <td>16</td>\n",
       "      <td>NaN</td>\n",
       "      <td>2021-05-22 12:16:46</td>\n",
       "      <td>Cuba</td>\n",
       "      <td>NaN</td>\n",
       "      <td>Yes</td>\n",
       "      <td>Dr. Antonio de Jesús Cabrera Prats</td>\n",
       "      <td>cabrerap@infomed.sld.cu</td>\n",
       "      <td>miembro y parte del liderazgo</td>\n",
       "      <td>Checked</td>\n",
       "      <td>...</td>\n",
       "      <td>NaN</td>\n",
       "      <td>1200.0</td>\n",
       "      <td>No</td>\n",
       "      <td>Yes</td>\n",
       "      <td>Checked</td>\n",
       "      <td>Checked</td>\n",
       "      <td>Checked</td>\n",
       "      <td>Unchecked</td>\n",
       "      <td>La especialidad de cuidados intensivos es inde...</td>\n",
       "      <td>Complete</td>\n",
       "    </tr>\n",
       "    <tr>\n",
       "      <th>12</th>\n",
       "      <td>17</td>\n",
       "      <td>NaN</td>\n",
       "      <td>2021-05-22 12:18:42</td>\n",
       "      <td>Cuba</td>\n",
       "      <td>NaN</td>\n",
       "      <td>Yes</td>\n",
       "      <td>Dr. Antonio de Jesús Cabrera Prats</td>\n",
       "      <td>cabrerap@infomed.sld.cu</td>\n",
       "      <td>miembro y parte del liderazgo</td>\n",
       "      <td>Unchecked</td>\n",
       "      <td>...</td>\n",
       "      <td>NaN</td>\n",
       "      <td>1200.0</td>\n",
       "      <td>No</td>\n",
       "      <td>Yes</td>\n",
       "      <td>Unchecked</td>\n",
       "      <td>Unchecked</td>\n",
       "      <td>Unchecked</td>\n",
       "      <td>Unchecked</td>\n",
       "      <td>La especialidad de cuidados intensivos es inde...</td>\n",
       "      <td>Complete</td>\n",
       "    </tr>\n",
       "    <tr>\n",
       "      <th>13</th>\n",
       "      <td>18</td>\n",
       "      <td>NaN</td>\n",
       "      <td>[not completed]</td>\n",
       "      <td>Spain</td>\n",
       "      <td>NaN</td>\n",
       "      <td>Yes</td>\n",
       "      <td>Emilia Guasch</td>\n",
       "      <td>emiguasch@hotmail.com</td>\n",
       "      <td>miembro pero no parte del liderazgo</td>\n",
       "      <td>Checked</td>\n",
       "      <td>...</td>\n",
       "      <td>NaN</td>\n",
       "      <td>NaN</td>\n",
       "      <td>NaN</td>\n",
       "      <td>NaN</td>\n",
       "      <td>Unchecked</td>\n",
       "      <td>Unchecked</td>\n",
       "      <td>Unchecked</td>\n",
       "      <td>Unchecked</td>\n",
       "      <td>NaN</td>\n",
       "      <td>Incomplete</td>\n",
       "    </tr>\n",
       "    <tr>\n",
       "      <th>14</th>\n",
       "      <td>19</td>\n",
       "      <td>NaN</td>\n",
       "      <td>2021-07-27 16:50:56</td>\n",
       "      <td>Spain</td>\n",
       "      <td>NaN</td>\n",
       "      <td>Yes</td>\n",
       "      <td>Antonia Ballesteros Barrado</td>\n",
       "      <td>toballesteros@gmail.com</td>\n",
       "      <td>miembro y parte del liderazgo</td>\n",
       "      <td>Checked</td>\n",
       "      <td>...</td>\n",
       "      <td>2214.0</td>\n",
       "      <td>2214.0</td>\n",
       "      <td>Yes</td>\n",
       "      <td>No</td>\n",
       "      <td>Unchecked</td>\n",
       "      <td>Unchecked</td>\n",
       "      <td>Unchecked</td>\n",
       "      <td>Unchecked</td>\n",
       "      <td>Al no existir reconocimiento de la especialida...</td>\n",
       "      <td>Complete</td>\n",
       "    </tr>\n",
       "    <tr>\n",
       "      <th>15</th>\n",
       "      <td>20</td>\n",
       "      <td>NaN</td>\n",
       "      <td>[not completed]</td>\n",
       "      <td>Spain</td>\n",
       "      <td>NaN</td>\n",
       "      <td>NaN</td>\n",
       "      <td>NaN</td>\n",
       "      <td>NaN</td>\n",
       "      <td>NaN</td>\n",
       "      <td>Unchecked</td>\n",
       "      <td>...</td>\n",
       "      <td>NaN</td>\n",
       "      <td>NaN</td>\n",
       "      <td>NaN</td>\n",
       "      <td>NaN</td>\n",
       "      <td>Unchecked</td>\n",
       "      <td>Unchecked</td>\n",
       "      <td>Unchecked</td>\n",
       "      <td>Unchecked</td>\n",
       "      <td>NaN</td>\n",
       "      <td>Incomplete</td>\n",
       "    </tr>\n",
       "  </tbody>\n",
       "</table>\n",
       "<p>5 rows × 122 columns</p>\n",
       "</div>"
      ],
      "text/plain": [
       "    Record ID  Survey Identifier     Survey Timestamp  \\\n",
       "11         16                NaN  2021-05-22 12:16:46   \n",
       "12         17                NaN  2021-05-22 12:18:42   \n",
       "13         18                NaN      [not completed]   \n",
       "14         19                NaN  2021-07-27 16:50:56   \n",
       "15         20                NaN      [not completed]   \n",
       "\n",
       "   1.1 Select the country* about which you are completing this survey: *List from&nbsp;World Health Organization&nbsp;country list. If you do not see your country, please select 'other' at the end of the list.  \\\n",
       "11                                               Cuba                                                                                                                                                               \n",
       "12                                               Cuba                                                                                                                                                               \n",
       "13                                              Spain                                                                                                                                                               \n",
       "14                                              Spain                                                                                                                                                               \n",
       "15                                              Spain                                                                                                                                                               \n",
       "\n",
       "    1.1.2 What is the name of your country?  \\\n",
       "11                                      NaN   \n",
       "12                                      NaN   \n",
       "13                                      NaN   \n",
       "14                                      NaN   \n",
       "15                                      NaN   \n",
       "\n",
       "   1.2 Are are you interested in being a collaborator in the&nbsp;Global Anesthesia Workforce Study Group (GAWS)? (To be co-author on GAWS publications, your participation must meet requirements outlined by ICMJE. )  \\\n",
       "11                                                Yes                                                                                                                                                                     \n",
       "12                                                Yes                                                                                                                                                                     \n",
       "13                                                Yes                                                                                                                                                                     \n",
       "14                                                Yes                                                                                                                                                                     \n",
       "15                                                NaN                                                                                                                                                                     \n",
       "\n",
       "          1.3 Please provide your name 1.4 Please provide your email address  \\\n",
       "11  Dr. Antonio de Jesús Cabrera Prats               cabrerap@infomed.sld.cu   \n",
       "12  Dr. Antonio de Jesús Cabrera Prats               cabrerap@infomed.sld.cu   \n",
       "13                       Emilia Guasch                 emiguasch@hotmail.com   \n",
       "14         Antonia Ballesteros Barrado               toballesteros@gmail.com   \n",
       "15                                 NaN                                   NaN   \n",
       "\n",
       "   1.5 What is your role in the (physician or non-physician) national anesthesia society (or association) of [country] ?  \\\n",
       "11                      miembro y parte del liderazgo                                                                      \n",
       "12                      miembro y parte del liderazgo                                                                      \n",
       "13                miembro pero no parte del liderazgo                                                                      \n",
       "14                      miembro y parte del liderazgo                                                                      \n",
       "15                                                NaN                                                                      \n",
       "\n",
       "   2.1.1 What types of anesthesia providers are currently working in [country]? Select all that apply(Please use provider terminology as defined at the top of this survey) (choice=Certified Specialist Physician Anesthesia Providers (or trainees))  \\\n",
       "11                                            Checked                                                                                                                                                                                                    \n",
       "12                                          Unchecked                                                                                                                                                                                                    \n",
       "13                                            Checked                                                                                                                                                                                                    \n",
       "14                                            Checked                                                                                                                                                                                                    \n",
       "15                                          Unchecked                                                                                                                                                                                                    \n",
       "\n",
       "    ...  \\\n",
       "11  ...   \n",
       "12  ...   \n",
       "13  ...   \n",
       "14  ...   \n",
       "15  ...   \n",
       "\n",
       "   How many intensive care medicine specialists are there in [country]? (i.e. total number of physicians who have completed a certified intensive care medicine training program) (Please include both those who have trained in [country] or in another country) (Do not include trainees. Please include both members and non-members of the national society)  \\\n",
       "11                                                NaN                                                                                                                                                                                                                                                                                                              \n",
       "12                                                NaN                                                                                                                                                                                                                                                                                                              \n",
       "13                                                NaN                                                                                                                                                                                                                                                                                                              \n",
       "14                                             2214.0                                                                                                                                                                                                                                                                                                              \n",
       "15                                                NaN                                                                                                                                                                                                                                                                                                              \n",
       "\n",
       "   How many specialist physician anesthesia providers are there in [country] who have completed a certified intensive care medicine training program?  (Please include both those who have trained in [country] or in another country)  \\\n",
       "11                                             1200.0                                                                                                                                                                                    \n",
       "12                                             1200.0                                                                                                                                                                                    \n",
       "13                                                NaN                                                                                                                                                                                    \n",
       "14                                             2214.0                                                                                                                                                                                    \n",
       "15                                                NaN                                                                                                                                                                                    \n",
       "\n",
       "   In your opinion, is the intensive care medicine training provided during specialist physician anesthesia training (i.e. residency) in [country] sufficient for a graduate to function autonomously as an intensive care medicine provider?  \\\n",
       "11                                                 No                                                                                                                                                                                           \n",
       "12                                                 No                                                                                                                                                                                           \n",
       "13                                                NaN                                                                                                                                                                                           \n",
       "14                                                Yes                                                                                                                                                                                           \n",
       "15                                                NaN                                                                                                                                                                                           \n",
       "\n",
       "    Is there a certified training pathway for becoming an intensive care nurse in [country]?   \\\n",
       "11                                                Yes                                           \n",
       "12                                                Yes                                           \n",
       "13                                                NaN                                           \n",
       "14                                                 No                                           \n",
       "15                                                NaN                                           \n",
       "\n",
       "    Which of the following training pathways for becoming an intensive care nurse exist in [country]: (select all true statement)     (choice=Dedicated intensive care training program after completion of nursing training)  \\\n",
       "11                                            Checked                                                                                                                                                                           \n",
       "12                                          Unchecked                                                                                                                                                                           \n",
       "13                                          Unchecked                                                                                                                                                                           \n",
       "14                                          Unchecked                                                                                                                                                                           \n",
       "15                                          Unchecked                                                                                                                                                                           \n",
       "\n",
       "    Which of the following training pathways for becoming an intensive care nurse exist in [country]: (select all true statement)     (choice=Intensive care training during nursing training)  \\\n",
       "11                                            Checked                                                                                                                                            \n",
       "12                                          Unchecked                                                                                                                                            \n",
       "13                                          Unchecked                                                                                                                                            \n",
       "14                                          Unchecked                                                                                                                                            \n",
       "15                                          Unchecked                                                                                                                                            \n",
       "\n",
       "    Which of the following training pathways for becoming an intensive care nurse exist in [country]: (select all true statement)     (choice=Intensive care training during nurse anesthesia provider training)  \\\n",
       "11                                            Checked                                                                                                                                                              \n",
       "12                                          Unchecked                                                                                                                                                              \n",
       "13                                          Unchecked                                                                                                                                                              \n",
       "14                                          Unchecked                                                                                                                                                              \n",
       "15                                          Unchecked                                                                                                                                                              \n",
       "\n",
       "    Which of the following training pathways for becoming an intensive care nurse exist in [country]: (select all true statement)     (choice=Other)  \\\n",
       "11                                          Unchecked                                                                                                  \n",
       "12                                          Unchecked                                                                                                  \n",
       "13                                          Unchecked                                                                                                  \n",
       "14                                          Unchecked                                                                                                  \n",
       "15                                          Unchecked                                                                                                  \n",
       "\n",
       "    Please let us know if there is additional information you want to share about the anesthesia or critical care workforce in [country], including any additional anesthesia provider cadres that you have not yet told us about.  \\\n",
       "11  La especialidad de cuidados intensivos es inde...                                                                                                                                                                                \n",
       "12  La especialidad de cuidados intensivos es inde...                                                                                                                                                                                \n",
       "13                                                NaN                                                                                                                                                                                \n",
       "14  Al no existir reconocimiento de la especialida...                                                                                                                                                                                \n",
       "15                                                NaN                                                                                                                                                                                \n",
       "\n",
       "     Complete?  \n",
       "11    Complete  \n",
       "12    Complete  \n",
       "13  Incomplete  \n",
       "14    Complete  \n",
       "15  Incomplete  \n",
       "\n",
       "[5 rows x 122 columns]"
      ]
     },
     "execution_count": 347,
     "metadata": {},
     "output_type": "execute_result"
    }
   ],
   "source": [
    "sp.tail()"
   ]
  },
  {
   "cell_type": "markdown",
   "metadata": {},
   "source": [
    "# Figures"
   ]
  },
  {
   "cell_type": "markdown",
   "metadata": {},
   "source": [
    "## Progress bar"
   ]
  },
  {
   "cell_type": "code",
   "execution_count": 360,
   "metadata": {
    "collapsed": true
   },
   "outputs": [],
   "source": [
    "import plotly.express as px\n",
    "haspap = pd.read_csv('haspap.csv')"
   ]
  },
  {
   "cell_type": "code",
   "execution_count": 362,
   "metadata": {
    "collapsed": true
   },
   "outputs": [],
   "source": [
    "def recode(x):\n",
    "    if x == 0:\n",
    "        return 'None'\n",
    "    elif x == 1:\n",
    "        return 'PAP only'\n",
    "    elif x == 2:\n",
    "        return 'NPAP only'\n",
    "    elif x == 3:\n",
    "        return 'both'\n",
    "\n",
    "haspap['provider2'] = haspap['provider type'].apply(recode)"
   ]
  },
  {
   "cell_type": "code",
   "execution_count": 363,
   "metadata": {
    "collapsed": false
   },
   "outputs": [],
   "source": [
    "cxtab_normal = pd.crosstab(haspap['Region'], haspap['provider2'], normalize='index') \n",
    "cxtab_count = pd.crosstab(haspap['Region'], haspap['provider2']) "
   ]
  },
  {
   "cell_type": "code",
   "execution_count": 364,
   "metadata": {
    "collapsed": false
   },
   "outputs": [],
   "source": [
    "t4_normal = cxtab_normal.reset_index().melt(id_vars='Region',value_name='percent')\n",
    "t4_count = cxtab_count.reset_index().melt(id_vars='Region',value_name='count')\n",
    "t4_normal['count'] = t4_count['count']"
   ]
  },
  {
   "cell_type": "code",
   "execution_count": 365,
   "metadata": {
    "collapsed": false
   },
   "outputs": [
    {
     "data": {
      "application/vnd.plotly.v1+json": {
       "config": {
        "plotlyServerURL": "https://plot.ly"
       },
       "data": [
        {
         "alignmentgroup": "True",
         "customdata": [
          [
           6
          ],
          [
           8
          ],
          [
           16
          ],
          [
           8
          ],
          [
           5
          ],
          [
           7
          ]
         ],
         "hoverlabel": {
          "namelength": 0
         },
         "hovertemplate": "Provider type=PAP only<br>percent=%{x}<br>Region=%{y}<br>count=%{text}",
         "legendgroup": "Provider type=PAP only",
         "marker": {
          "color": "rgb(135, 197, 95)"
         },
         "name": "Provider type=PAP only",
         "offsetgroup": "Provider type=PAP only",
         "orientation": "h",
         "showlegend": true,
         "text": [
          6,
          8,
          16,
          8,
          5,
          7
         ],
         "textposition": "auto",
         "type": "bar",
         "x": [
          0.13043478260869565,
          0.34782608695652173,
          0.3018867924528302,
          0.22857142857142856,
          0.5,
          0.21212121212121213
         ],
         "xaxis": "x",
         "y": [
          "African Region",
          "Eastern Mediterranean Region",
          "European Region",
          "Region of the Americas",
          "South-East Asia Region",
          "Western Pacific Region"
         ],
         "yaxis": "y"
        },
        {
         "alignmentgroup": "True",
         "customdata": [
          [
           13
          ],
          [
           3
          ],
          [
           6
          ],
          [
           1
          ],
          [
           4
          ],
          [
           7
          ]
         ],
         "hoverlabel": {
          "namelength": 0
         },
         "hovertemplate": "Provider type=both<br>percent=%{x}<br>Region=%{y}<br>count=%{text}",
         "legendgroup": "Provider type=both",
         "marker": {
          "color": "rgb(180, 151, 231)"
         },
         "name": "Provider type=both",
         "offsetgroup": "Provider type=both",
         "orientation": "h",
         "showlegend": true,
         "text": [
          13,
          3,
          6,
          1,
          4,
          7
         ],
         "textposition": "auto",
         "type": "bar",
         "x": [
          0.2826086956521739,
          0.13043478260869565,
          0.11320754716981132,
          0.02857142857142857,
          0.4,
          0.21212121212121213
         ],
         "xaxis": "x",
         "y": [
          "African Region",
          "Eastern Mediterranean Region",
          "European Region",
          "Region of the Americas",
          "South-East Asia Region",
          "Western Pacific Region"
         ],
         "yaxis": "y"
        },
        {
         "alignmentgroup": "True",
         "customdata": [
          [
           2
          ],
          [
           1
          ],
          [
           7
          ],
          [
           0
          ],
          [
           0
          ],
          [
           1
          ]
         ],
         "hoverlabel": {
          "namelength": 0
         },
         "hovertemplate": "Provider type=NPAP only<br>percent=%{x}<br>Region=%{y}<br>count=%{text}",
         "legendgroup": "Provider type=NPAP only",
         "marker": {
          "color": "cornflowerblue"
         },
         "name": "Provider type=NPAP only",
         "offsetgroup": "Provider type=NPAP only",
         "orientation": "h",
         "showlegend": true,
         "text": [
          2,
          1,
          7,
          0,
          0,
          1
         ],
         "textposition": "auto",
         "type": "bar",
         "x": [
          0.043478260869565216,
          0.043478260869565216,
          0.1320754716981132,
          0,
          0,
          0.030303030303030304
         ],
         "xaxis": "x",
         "y": [
          "African Region",
          "Eastern Mediterranean Region",
          "European Region",
          "Region of the Americas",
          "South-East Asia Region",
          "Western Pacific Region"
         ],
         "yaxis": "y"
        },
        {
         "alignmentgroup": "True",
         "customdata": [
          [
           25
          ],
          [
           11
          ],
          [
           24
          ],
          [
           26
          ],
          [
           1
          ],
          [
           18
          ]
         ],
         "hoverlabel": {
          "namelength": 0
         },
         "hovertemplate": "Provider type=None<br>percent=%{x}<br>Region=%{y}<br>count=%{text}",
         "legendgroup": "Provider type=None",
         "marker": {
          "color": "rgb(217,95,2)"
         },
         "name": "Provider type=None",
         "offsetgroup": "Provider type=None",
         "orientation": "h",
         "showlegend": true,
         "text": [
          25,
          11,
          24,
          26,
          1,
          18
         ],
         "textposition": "auto",
         "type": "bar",
         "x": [
          0.5434782608695652,
          0.4782608695652174,
          0.4528301886792453,
          0.7428571428571429,
          0.1,
          0.5454545454545454
         ],
         "xaxis": "x",
         "y": [
          "African Region",
          "Eastern Mediterranean Region",
          "European Region",
          "Region of the Americas",
          "South-East Asia Region",
          "Western Pacific Region"
         ],
         "yaxis": "y"
        }
       ],
       "layout": {
        "barmode": "relative",
        "height": 600,
        "legend": {
         "tracegroupgap": 0
        },
        "template": {
         "data": {
          "bar": [
           {
            "error_x": {
             "color": "#2a3f5f"
            },
            "error_y": {
             "color": "#2a3f5f"
            },
            "marker": {
             "line": {
              "color": "#E5ECF6",
              "width": 0.5
             }
            },
            "type": "bar"
           }
          ],
          "barpolar": [
           {
            "marker": {
             "line": {
              "color": "#E5ECF6",
              "width": 0.5
             }
            },
            "type": "barpolar"
           }
          ],
          "carpet": [
           {
            "aaxis": {
             "endlinecolor": "#2a3f5f",
             "gridcolor": "white",
             "linecolor": "white",
             "minorgridcolor": "white",
             "startlinecolor": "#2a3f5f"
            },
            "baxis": {
             "endlinecolor": "#2a3f5f",
             "gridcolor": "white",
             "linecolor": "white",
             "minorgridcolor": "white",
             "startlinecolor": "#2a3f5f"
            },
            "type": "carpet"
           }
          ],
          "choropleth": [
           {
            "colorbar": {
             "outlinewidth": 0,
             "ticks": ""
            },
            "type": "choropleth"
           }
          ],
          "contour": [
           {
            "colorbar": {
             "outlinewidth": 0,
             "ticks": ""
            },
            "colorscale": [
             [
              0,
              "#0d0887"
             ],
             [
              0.1111111111111111,
              "#46039f"
             ],
             [
              0.2222222222222222,
              "#7201a8"
             ],
             [
              0.3333333333333333,
              "#9c179e"
             ],
             [
              0.4444444444444444,
              "#bd3786"
             ],
             [
              0.5555555555555556,
              "#d8576b"
             ],
             [
              0.6666666666666666,
              "#ed7953"
             ],
             [
              0.7777777777777778,
              "#fb9f3a"
             ],
             [
              0.8888888888888888,
              "#fdca26"
             ],
             [
              1,
              "#f0f921"
             ]
            ],
            "type": "contour"
           }
          ],
          "contourcarpet": [
           {
            "colorbar": {
             "outlinewidth": 0,
             "ticks": ""
            },
            "type": "contourcarpet"
           }
          ],
          "heatmap": [
           {
            "colorbar": {
             "outlinewidth": 0,
             "ticks": ""
            },
            "colorscale": [
             [
              0,
              "#0d0887"
             ],
             [
              0.1111111111111111,
              "#46039f"
             ],
             [
              0.2222222222222222,
              "#7201a8"
             ],
             [
              0.3333333333333333,
              "#9c179e"
             ],
             [
              0.4444444444444444,
              "#bd3786"
             ],
             [
              0.5555555555555556,
              "#d8576b"
             ],
             [
              0.6666666666666666,
              "#ed7953"
             ],
             [
              0.7777777777777778,
              "#fb9f3a"
             ],
             [
              0.8888888888888888,
              "#fdca26"
             ],
             [
              1,
              "#f0f921"
             ]
            ],
            "type": "heatmap"
           }
          ],
          "heatmapgl": [
           {
            "colorbar": {
             "outlinewidth": 0,
             "ticks": ""
            },
            "colorscale": [
             [
              0,
              "#0d0887"
             ],
             [
              0.1111111111111111,
              "#46039f"
             ],
             [
              0.2222222222222222,
              "#7201a8"
             ],
             [
              0.3333333333333333,
              "#9c179e"
             ],
             [
              0.4444444444444444,
              "#bd3786"
             ],
             [
              0.5555555555555556,
              "#d8576b"
             ],
             [
              0.6666666666666666,
              "#ed7953"
             ],
             [
              0.7777777777777778,
              "#fb9f3a"
             ],
             [
              0.8888888888888888,
              "#fdca26"
             ],
             [
              1,
              "#f0f921"
             ]
            ],
            "type": "heatmapgl"
           }
          ],
          "histogram": [
           {
            "marker": {
             "colorbar": {
              "outlinewidth": 0,
              "ticks": ""
             }
            },
            "type": "histogram"
           }
          ],
          "histogram2d": [
           {
            "colorbar": {
             "outlinewidth": 0,
             "ticks": ""
            },
            "colorscale": [
             [
              0,
              "#0d0887"
             ],
             [
              0.1111111111111111,
              "#46039f"
             ],
             [
              0.2222222222222222,
              "#7201a8"
             ],
             [
              0.3333333333333333,
              "#9c179e"
             ],
             [
              0.4444444444444444,
              "#bd3786"
             ],
             [
              0.5555555555555556,
              "#d8576b"
             ],
             [
              0.6666666666666666,
              "#ed7953"
             ],
             [
              0.7777777777777778,
              "#fb9f3a"
             ],
             [
              0.8888888888888888,
              "#fdca26"
             ],
             [
              1,
              "#f0f921"
             ]
            ],
            "type": "histogram2d"
           }
          ],
          "histogram2dcontour": [
           {
            "colorbar": {
             "outlinewidth": 0,
             "ticks": ""
            },
            "colorscale": [
             [
              0,
              "#0d0887"
             ],
             [
              0.1111111111111111,
              "#46039f"
             ],
             [
              0.2222222222222222,
              "#7201a8"
             ],
             [
              0.3333333333333333,
              "#9c179e"
             ],
             [
              0.4444444444444444,
              "#bd3786"
             ],
             [
              0.5555555555555556,
              "#d8576b"
             ],
             [
              0.6666666666666666,
              "#ed7953"
             ],
             [
              0.7777777777777778,
              "#fb9f3a"
             ],
             [
              0.8888888888888888,
              "#fdca26"
             ],
             [
              1,
              "#f0f921"
             ]
            ],
            "type": "histogram2dcontour"
           }
          ],
          "mesh3d": [
           {
            "colorbar": {
             "outlinewidth": 0,
             "ticks": ""
            },
            "type": "mesh3d"
           }
          ],
          "parcoords": [
           {
            "line": {
             "colorbar": {
              "outlinewidth": 0,
              "ticks": ""
             }
            },
            "type": "parcoords"
           }
          ],
          "scatter": [
           {
            "marker": {
             "colorbar": {
              "outlinewidth": 0,
              "ticks": ""
             }
            },
            "type": "scatter"
           }
          ],
          "scatter3d": [
           {
            "line": {
             "colorbar": {
              "outlinewidth": 0,
              "ticks": ""
             }
            },
            "marker": {
             "colorbar": {
              "outlinewidth": 0,
              "ticks": ""
             }
            },
            "type": "scatter3d"
           }
          ],
          "scattercarpet": [
           {
            "marker": {
             "colorbar": {
              "outlinewidth": 0,
              "ticks": ""
             }
            },
            "type": "scattercarpet"
           }
          ],
          "scattergeo": [
           {
            "marker": {
             "colorbar": {
              "outlinewidth": 0,
              "ticks": ""
             }
            },
            "type": "scattergeo"
           }
          ],
          "scattergl": [
           {
            "marker": {
             "colorbar": {
              "outlinewidth": 0,
              "ticks": ""
             }
            },
            "type": "scattergl"
           }
          ],
          "scattermapbox": [
           {
            "marker": {
             "colorbar": {
              "outlinewidth": 0,
              "ticks": ""
             }
            },
            "type": "scattermapbox"
           }
          ],
          "scatterpolar": [
           {
            "marker": {
             "colorbar": {
              "outlinewidth": 0,
              "ticks": ""
             }
            },
            "type": "scatterpolar"
           }
          ],
          "scatterpolargl": [
           {
            "marker": {
             "colorbar": {
              "outlinewidth": 0,
              "ticks": ""
             }
            },
            "type": "scatterpolargl"
           }
          ],
          "scatterternary": [
           {
            "marker": {
             "colorbar": {
              "outlinewidth": 0,
              "ticks": ""
             }
            },
            "type": "scatterternary"
           }
          ],
          "surface": [
           {
            "colorbar": {
             "outlinewidth": 0,
             "ticks": ""
            },
            "colorscale": [
             [
              0,
              "#0d0887"
             ],
             [
              0.1111111111111111,
              "#46039f"
             ],
             [
              0.2222222222222222,
              "#7201a8"
             ],
             [
              0.3333333333333333,
              "#9c179e"
             ],
             [
              0.4444444444444444,
              "#bd3786"
             ],
             [
              0.5555555555555556,
              "#d8576b"
             ],
             [
              0.6666666666666666,
              "#ed7953"
             ],
             [
              0.7777777777777778,
              "#fb9f3a"
             ],
             [
              0.8888888888888888,
              "#fdca26"
             ],
             [
              1,
              "#f0f921"
             ]
            ],
            "type": "surface"
           }
          ],
          "table": [
           {
            "cells": {
             "fill": {
              "color": "#EBF0F8"
             },
             "line": {
              "color": "white"
             }
            },
            "header": {
             "fill": {
              "color": "#C8D4E3"
             },
             "line": {
              "color": "white"
             }
            },
            "type": "table"
           }
          ]
         },
         "layout": {
          "annotationdefaults": {
           "arrowcolor": "#2a3f5f",
           "arrowhead": 0,
           "arrowwidth": 1
          },
          "colorscale": {
           "diverging": [
            [
             0,
             "#8e0152"
            ],
            [
             0.1,
             "#c51b7d"
            ],
            [
             0.2,
             "#de77ae"
            ],
            [
             0.3,
             "#f1b6da"
            ],
            [
             0.4,
             "#fde0ef"
            ],
            [
             0.5,
             "#f7f7f7"
            ],
            [
             0.6,
             "#e6f5d0"
            ],
            [
             0.7,
             "#b8e186"
            ],
            [
             0.8,
             "#7fbc41"
            ],
            [
             0.9,
             "#4d9221"
            ],
            [
             1,
             "#276419"
            ]
           ],
           "sequential": [
            [
             0,
             "#0d0887"
            ],
            [
             0.1111111111111111,
             "#46039f"
            ],
            [
             0.2222222222222222,
             "#7201a8"
            ],
            [
             0.3333333333333333,
             "#9c179e"
            ],
            [
             0.4444444444444444,
             "#bd3786"
            ],
            [
             0.5555555555555556,
             "#d8576b"
            ],
            [
             0.6666666666666666,
             "#ed7953"
            ],
            [
             0.7777777777777778,
             "#fb9f3a"
            ],
            [
             0.8888888888888888,
             "#fdca26"
            ],
            [
             1,
             "#f0f921"
            ]
           ],
           "sequentialminus": [
            [
             0,
             "#0d0887"
            ],
            [
             0.1111111111111111,
             "#46039f"
            ],
            [
             0.2222222222222222,
             "#7201a8"
            ],
            [
             0.3333333333333333,
             "#9c179e"
            ],
            [
             0.4444444444444444,
             "#bd3786"
            ],
            [
             0.5555555555555556,
             "#d8576b"
            ],
            [
             0.6666666666666666,
             "#ed7953"
            ],
            [
             0.7777777777777778,
             "#fb9f3a"
            ],
            [
             0.8888888888888888,
             "#fdca26"
            ],
            [
             1,
             "#f0f921"
            ]
           ]
          },
          "colorway": [
           "#636efa",
           "#EF553B",
           "#00cc96",
           "#ab63fa",
           "#FFA15A",
           "#19d3f3",
           "#FF6692",
           "#B6E880",
           "#FF97FF",
           "#FECB52"
          ],
          "font": {
           "color": "#2a3f5f"
          },
          "geo": {
           "bgcolor": "white",
           "lakecolor": "white",
           "landcolor": "#E5ECF6",
           "showlakes": true,
           "showland": true,
           "subunitcolor": "white"
          },
          "hoverlabel": {
           "align": "left"
          },
          "hovermode": "closest",
          "mapbox": {
           "style": "light"
          },
          "paper_bgcolor": "white",
          "plot_bgcolor": "#E5ECF6",
          "polar": {
           "angularaxis": {
            "gridcolor": "white",
            "linecolor": "white",
            "ticks": ""
           },
           "bgcolor": "#E5ECF6",
           "radialaxis": {
            "gridcolor": "white",
            "linecolor": "white",
            "ticks": ""
           }
          },
          "scene": {
           "xaxis": {
            "backgroundcolor": "#E5ECF6",
            "gridcolor": "white",
            "gridwidth": 2,
            "linecolor": "white",
            "showbackground": true,
            "ticks": "",
            "zerolinecolor": "white"
           },
           "yaxis": {
            "backgroundcolor": "#E5ECF6",
            "gridcolor": "white",
            "gridwidth": 2,
            "linecolor": "white",
            "showbackground": true,
            "ticks": "",
            "zerolinecolor": "white"
           },
           "zaxis": {
            "backgroundcolor": "#E5ECF6",
            "gridcolor": "white",
            "gridwidth": 2,
            "linecolor": "white",
            "showbackground": true,
            "ticks": "",
            "zerolinecolor": "white"
           }
          },
          "shapedefaults": {
           "line": {
            "color": "#2a3f5f"
           }
          },
          "ternary": {
           "aaxis": {
            "gridcolor": "white",
            "linecolor": "white",
            "ticks": ""
           },
           "baxis": {
            "gridcolor": "white",
            "linecolor": "white",
            "ticks": ""
           },
           "bgcolor": "#E5ECF6",
           "caxis": {
            "gridcolor": "white",
            "linecolor": "white",
            "ticks": ""
           }
          },
          "title": {
           "x": 0.05
          },
          "xaxis": {
           "automargin": true,
           "gridcolor": "white",
           "linecolor": "white",
           "ticks": "",
           "zerolinecolor": "white",
           "zerolinewidth": 2
          },
          "yaxis": {
           "automargin": true,
           "gridcolor": "white",
           "linecolor": "white",
           "ticks": "",
           "zerolinecolor": "white",
           "zerolinewidth": 2
          }
         }
        },
        "title": {
         "text": "Completion by Region"
        },
        "xaxis": {
         "anchor": "y",
         "domain": [
          0,
          0.98
         ],
         "title": {
          "text": "percent"
         }
        },
        "yaxis": {
         "anchor": "x",
         "domain": [
          0,
          1
         ],
         "title": {
          "text": "Region"
         }
        }
       }
      },
      "text/html": [
       "<div>\n",
       "        \n",
       "        \n",
       "            <div id=\"d7bca6db-79bc-4601-9d9c-26f25c9e3861\" class=\"plotly-graph-div\" style=\"height:600px; width:100%;\"></div>\n",
       "            <script type=\"text/javascript\">\n",
       "                require([\"plotly\"], function(Plotly) {\n",
       "                    window.PLOTLYENV=window.PLOTLYENV || {};\n",
       "                    \n",
       "                if (document.getElementById(\"d7bca6db-79bc-4601-9d9c-26f25c9e3861\")) {\n",
       "                    Plotly.newPlot(\n",
       "                        'd7bca6db-79bc-4601-9d9c-26f25c9e3861',\n",
       "                        [{\"alignmentgroup\": \"True\", \"customdata\": [[6], [8], [16], [8], [5], [7]], \"hoverlabel\": {\"namelength\": 0}, \"hovertemplate\": \"Provider type=PAP only<br>percent=%{x}<br>Region=%{y}<br>count=%{text}\", \"legendgroup\": \"Provider type=PAP only\", \"marker\": {\"color\": \"rgb(135, 197, 95)\"}, \"name\": \"Provider type=PAP only\", \"offsetgroup\": \"Provider type=PAP only\", \"orientation\": \"h\", \"showlegend\": true, \"text\": [6.0, 8.0, 16.0, 8.0, 5.0, 7.0], \"textposition\": \"auto\", \"type\": \"bar\", \"x\": [0.13043478260869565, 0.34782608695652173, 0.3018867924528302, 0.22857142857142856, 0.5, 0.21212121212121213], \"xaxis\": \"x\", \"y\": [\"African Region\", \"Eastern Mediterranean Region\", \"European Region\", \"Region of the Americas\", \"South-East Asia Region\", \"Western Pacific Region\"], \"yaxis\": \"y\"}, {\"alignmentgroup\": \"True\", \"customdata\": [[13], [3], [6], [1], [4], [7]], \"hoverlabel\": {\"namelength\": 0}, \"hovertemplate\": \"Provider type=both<br>percent=%{x}<br>Region=%{y}<br>count=%{text}\", \"legendgroup\": \"Provider type=both\", \"marker\": {\"color\": \"rgb(180, 151, 231)\"}, \"name\": \"Provider type=both\", \"offsetgroup\": \"Provider type=both\", \"orientation\": \"h\", \"showlegend\": true, \"text\": [13.0, 3.0, 6.0, 1.0, 4.0, 7.0], \"textposition\": \"auto\", \"type\": \"bar\", \"x\": [0.2826086956521739, 0.13043478260869565, 0.11320754716981132, 0.02857142857142857, 0.4, 0.21212121212121213], \"xaxis\": \"x\", \"y\": [\"African Region\", \"Eastern Mediterranean Region\", \"European Region\", \"Region of the Americas\", \"South-East Asia Region\", \"Western Pacific Region\"], \"yaxis\": \"y\"}, {\"alignmentgroup\": \"True\", \"customdata\": [[2], [1], [7], [0], [0], [1]], \"hoverlabel\": {\"namelength\": 0}, \"hovertemplate\": \"Provider type=NPAP only<br>percent=%{x}<br>Region=%{y}<br>count=%{text}\", \"legendgroup\": \"Provider type=NPAP only\", \"marker\": {\"color\": \"cornflowerblue\"}, \"name\": \"Provider type=NPAP only\", \"offsetgroup\": \"Provider type=NPAP only\", \"orientation\": \"h\", \"showlegend\": true, \"text\": [2.0, 1.0, 7.0, 0.0, 0.0, 1.0], \"textposition\": \"auto\", \"type\": \"bar\", \"x\": [0.043478260869565216, 0.043478260869565216, 0.1320754716981132, 0.0, 0.0, 0.030303030303030304], \"xaxis\": \"x\", \"y\": [\"African Region\", \"Eastern Mediterranean Region\", \"European Region\", \"Region of the Americas\", \"South-East Asia Region\", \"Western Pacific Region\"], \"yaxis\": \"y\"}, {\"alignmentgroup\": \"True\", \"customdata\": [[25], [11], [24], [26], [1], [18]], \"hoverlabel\": {\"namelength\": 0}, \"hovertemplate\": \"Provider type=None<br>percent=%{x}<br>Region=%{y}<br>count=%{text}\", \"legendgroup\": \"Provider type=None\", \"marker\": {\"color\": \"rgb(217,95,2)\"}, \"name\": \"Provider type=None\", \"offsetgroup\": \"Provider type=None\", \"orientation\": \"h\", \"showlegend\": true, \"text\": [25.0, 11.0, 24.0, 26.0, 1.0, 18.0], \"textposition\": \"auto\", \"type\": \"bar\", \"x\": [0.5434782608695652, 0.4782608695652174, 0.4528301886792453, 0.7428571428571429, 0.1, 0.5454545454545454], \"xaxis\": \"x\", \"y\": [\"African Region\", \"Eastern Mediterranean Region\", \"European Region\", \"Region of the Americas\", \"South-East Asia Region\", \"Western Pacific Region\"], \"yaxis\": \"y\"}],\n",
       "                        {\"barmode\": \"relative\", \"height\": 600, \"legend\": {\"tracegroupgap\": 0}, \"template\": {\"data\": {\"bar\": [{\"error_x\": {\"color\": \"#2a3f5f\"}, \"error_y\": {\"color\": \"#2a3f5f\"}, \"marker\": {\"line\": {\"color\": \"#E5ECF6\", \"width\": 0.5}}, \"type\": \"bar\"}], \"barpolar\": [{\"marker\": {\"line\": {\"color\": \"#E5ECF6\", \"width\": 0.5}}, \"type\": \"barpolar\"}], \"carpet\": [{\"aaxis\": {\"endlinecolor\": \"#2a3f5f\", \"gridcolor\": \"white\", \"linecolor\": \"white\", \"minorgridcolor\": \"white\", \"startlinecolor\": \"#2a3f5f\"}, \"baxis\": {\"endlinecolor\": \"#2a3f5f\", \"gridcolor\": \"white\", \"linecolor\": \"white\", \"minorgridcolor\": \"white\", \"startlinecolor\": \"#2a3f5f\"}, \"type\": \"carpet\"}], \"choropleth\": [{\"colorbar\": {\"outlinewidth\": 0, \"ticks\": \"\"}, \"type\": \"choropleth\"}], \"contour\": [{\"colorbar\": {\"outlinewidth\": 0, \"ticks\": \"\"}, \"colorscale\": [[0.0, \"#0d0887\"], [0.1111111111111111, \"#46039f\"], [0.2222222222222222, \"#7201a8\"], [0.3333333333333333, \"#9c179e\"], [0.4444444444444444, \"#bd3786\"], [0.5555555555555556, \"#d8576b\"], [0.6666666666666666, \"#ed7953\"], [0.7777777777777778, \"#fb9f3a\"], [0.8888888888888888, \"#fdca26\"], [1.0, \"#f0f921\"]], \"type\": \"contour\"}], \"contourcarpet\": [{\"colorbar\": {\"outlinewidth\": 0, \"ticks\": \"\"}, \"type\": \"contourcarpet\"}], \"heatmap\": [{\"colorbar\": {\"outlinewidth\": 0, \"ticks\": \"\"}, \"colorscale\": [[0.0, \"#0d0887\"], [0.1111111111111111, \"#46039f\"], [0.2222222222222222, \"#7201a8\"], [0.3333333333333333, \"#9c179e\"], [0.4444444444444444, \"#bd3786\"], [0.5555555555555556, \"#d8576b\"], [0.6666666666666666, \"#ed7953\"], [0.7777777777777778, \"#fb9f3a\"], [0.8888888888888888, \"#fdca26\"], [1.0, \"#f0f921\"]], \"type\": \"heatmap\"}], \"heatmapgl\": [{\"colorbar\": {\"outlinewidth\": 0, \"ticks\": \"\"}, \"colorscale\": [[0.0, \"#0d0887\"], [0.1111111111111111, \"#46039f\"], [0.2222222222222222, \"#7201a8\"], [0.3333333333333333, \"#9c179e\"], [0.4444444444444444, \"#bd3786\"], [0.5555555555555556, \"#d8576b\"], [0.6666666666666666, \"#ed7953\"], [0.7777777777777778, \"#fb9f3a\"], [0.8888888888888888, \"#fdca26\"], [1.0, \"#f0f921\"]], \"type\": \"heatmapgl\"}], \"histogram\": [{\"marker\": {\"colorbar\": {\"outlinewidth\": 0, \"ticks\": \"\"}}, \"type\": \"histogram\"}], \"histogram2d\": [{\"colorbar\": {\"outlinewidth\": 0, \"ticks\": \"\"}, \"colorscale\": [[0.0, \"#0d0887\"], [0.1111111111111111, \"#46039f\"], [0.2222222222222222, \"#7201a8\"], [0.3333333333333333, \"#9c179e\"], [0.4444444444444444, \"#bd3786\"], [0.5555555555555556, \"#d8576b\"], [0.6666666666666666, \"#ed7953\"], [0.7777777777777778, \"#fb9f3a\"], [0.8888888888888888, \"#fdca26\"], [1.0, \"#f0f921\"]], \"type\": \"histogram2d\"}], \"histogram2dcontour\": [{\"colorbar\": {\"outlinewidth\": 0, \"ticks\": \"\"}, \"colorscale\": [[0.0, \"#0d0887\"], [0.1111111111111111, \"#46039f\"], [0.2222222222222222, \"#7201a8\"], [0.3333333333333333, \"#9c179e\"], [0.4444444444444444, \"#bd3786\"], [0.5555555555555556, \"#d8576b\"], [0.6666666666666666, \"#ed7953\"], [0.7777777777777778, \"#fb9f3a\"], [0.8888888888888888, \"#fdca26\"], [1.0, \"#f0f921\"]], \"type\": \"histogram2dcontour\"}], \"mesh3d\": [{\"colorbar\": {\"outlinewidth\": 0, \"ticks\": \"\"}, \"type\": \"mesh3d\"}], \"parcoords\": [{\"line\": {\"colorbar\": {\"outlinewidth\": 0, \"ticks\": \"\"}}, \"type\": \"parcoords\"}], \"scatter\": [{\"marker\": {\"colorbar\": {\"outlinewidth\": 0, \"ticks\": \"\"}}, \"type\": \"scatter\"}], \"scatter3d\": [{\"line\": {\"colorbar\": {\"outlinewidth\": 0, \"ticks\": \"\"}}, \"marker\": {\"colorbar\": {\"outlinewidth\": 0, \"ticks\": \"\"}}, \"type\": \"scatter3d\"}], \"scattercarpet\": [{\"marker\": {\"colorbar\": {\"outlinewidth\": 0, \"ticks\": \"\"}}, \"type\": \"scattercarpet\"}], \"scattergeo\": [{\"marker\": {\"colorbar\": {\"outlinewidth\": 0, \"ticks\": \"\"}}, \"type\": \"scattergeo\"}], \"scattergl\": [{\"marker\": {\"colorbar\": {\"outlinewidth\": 0, \"ticks\": \"\"}}, \"type\": \"scattergl\"}], \"scattermapbox\": [{\"marker\": {\"colorbar\": {\"outlinewidth\": 0, \"ticks\": \"\"}}, \"type\": \"scattermapbox\"}], \"scatterpolar\": [{\"marker\": {\"colorbar\": {\"outlinewidth\": 0, \"ticks\": \"\"}}, \"type\": \"scatterpolar\"}], \"scatterpolargl\": [{\"marker\": {\"colorbar\": {\"outlinewidth\": 0, \"ticks\": \"\"}}, \"type\": \"scatterpolargl\"}], \"scatterternary\": [{\"marker\": {\"colorbar\": {\"outlinewidth\": 0, \"ticks\": \"\"}}, \"type\": \"scatterternary\"}], \"surface\": [{\"colorbar\": {\"outlinewidth\": 0, \"ticks\": \"\"}, \"colorscale\": [[0.0, \"#0d0887\"], [0.1111111111111111, \"#46039f\"], [0.2222222222222222, \"#7201a8\"], [0.3333333333333333, \"#9c179e\"], [0.4444444444444444, \"#bd3786\"], [0.5555555555555556, \"#d8576b\"], [0.6666666666666666, \"#ed7953\"], [0.7777777777777778, \"#fb9f3a\"], [0.8888888888888888, \"#fdca26\"], [1.0, \"#f0f921\"]], \"type\": \"surface\"}], \"table\": [{\"cells\": {\"fill\": {\"color\": \"#EBF0F8\"}, \"line\": {\"color\": \"white\"}}, \"header\": {\"fill\": {\"color\": \"#C8D4E3\"}, \"line\": {\"color\": \"white\"}}, \"type\": \"table\"}]}, \"layout\": {\"annotationdefaults\": {\"arrowcolor\": \"#2a3f5f\", \"arrowhead\": 0, \"arrowwidth\": 1}, \"colorscale\": {\"diverging\": [[0, \"#8e0152\"], [0.1, \"#c51b7d\"], [0.2, \"#de77ae\"], [0.3, \"#f1b6da\"], [0.4, \"#fde0ef\"], [0.5, \"#f7f7f7\"], [0.6, \"#e6f5d0\"], [0.7, \"#b8e186\"], [0.8, \"#7fbc41\"], [0.9, \"#4d9221\"], [1, \"#276419\"]], \"sequential\": [[0.0, \"#0d0887\"], [0.1111111111111111, \"#46039f\"], [0.2222222222222222, \"#7201a8\"], [0.3333333333333333, \"#9c179e\"], [0.4444444444444444, \"#bd3786\"], [0.5555555555555556, \"#d8576b\"], [0.6666666666666666, \"#ed7953\"], [0.7777777777777778, \"#fb9f3a\"], [0.8888888888888888, \"#fdca26\"], [1.0, \"#f0f921\"]], \"sequentialminus\": [[0.0, \"#0d0887\"], [0.1111111111111111, \"#46039f\"], [0.2222222222222222, \"#7201a8\"], [0.3333333333333333, \"#9c179e\"], [0.4444444444444444, \"#bd3786\"], [0.5555555555555556, \"#d8576b\"], [0.6666666666666666, \"#ed7953\"], [0.7777777777777778, \"#fb9f3a\"], [0.8888888888888888, \"#fdca26\"], [1.0, \"#f0f921\"]]}, \"colorway\": [\"#636efa\", \"#EF553B\", \"#00cc96\", \"#ab63fa\", \"#FFA15A\", \"#19d3f3\", \"#FF6692\", \"#B6E880\", \"#FF97FF\", \"#FECB52\"], \"font\": {\"color\": \"#2a3f5f\"}, \"geo\": {\"bgcolor\": \"white\", \"lakecolor\": \"white\", \"landcolor\": \"#E5ECF6\", \"showlakes\": true, \"showland\": true, \"subunitcolor\": \"white\"}, \"hoverlabel\": {\"align\": \"left\"}, \"hovermode\": \"closest\", \"mapbox\": {\"style\": \"light\"}, \"paper_bgcolor\": \"white\", \"plot_bgcolor\": \"#E5ECF6\", \"polar\": {\"angularaxis\": {\"gridcolor\": \"white\", \"linecolor\": \"white\", \"ticks\": \"\"}, \"bgcolor\": \"#E5ECF6\", \"radialaxis\": {\"gridcolor\": \"white\", \"linecolor\": \"white\", \"ticks\": \"\"}}, \"scene\": {\"xaxis\": {\"backgroundcolor\": \"#E5ECF6\", \"gridcolor\": \"white\", \"gridwidth\": 2, \"linecolor\": \"white\", \"showbackground\": true, \"ticks\": \"\", \"zerolinecolor\": \"white\"}, \"yaxis\": {\"backgroundcolor\": \"#E5ECF6\", \"gridcolor\": \"white\", \"gridwidth\": 2, \"linecolor\": \"white\", \"showbackground\": true, \"ticks\": \"\", \"zerolinecolor\": \"white\"}, \"zaxis\": {\"backgroundcolor\": \"#E5ECF6\", \"gridcolor\": \"white\", \"gridwidth\": 2, \"linecolor\": \"white\", \"showbackground\": true, \"ticks\": \"\", \"zerolinecolor\": \"white\"}}, \"shapedefaults\": {\"line\": {\"color\": \"#2a3f5f\"}}, \"ternary\": {\"aaxis\": {\"gridcolor\": \"white\", \"linecolor\": \"white\", \"ticks\": \"\"}, \"baxis\": {\"gridcolor\": \"white\", \"linecolor\": \"white\", \"ticks\": \"\"}, \"bgcolor\": \"#E5ECF6\", \"caxis\": {\"gridcolor\": \"white\", \"linecolor\": \"white\", \"ticks\": \"\"}}, \"title\": {\"x\": 0.05}, \"xaxis\": {\"automargin\": true, \"gridcolor\": \"white\", \"linecolor\": \"white\", \"ticks\": \"\", \"zerolinecolor\": \"white\", \"zerolinewidth\": 2}, \"yaxis\": {\"automargin\": true, \"gridcolor\": \"white\", \"linecolor\": \"white\", \"ticks\": \"\", \"zerolinecolor\": \"white\", \"zerolinewidth\": 2}}}, \"title\": {\"text\": \"Completion by Region\"}, \"xaxis\": {\"anchor\": \"y\", \"domain\": [0.0, 0.98], \"title\": {\"text\": \"percent\"}}, \"yaxis\": {\"anchor\": \"x\", \"domain\": [0.0, 1.0], \"title\": {\"text\": \"Region\"}}},\n",
       "                        {\"responsive\": true}\n",
       "                    ).then(function(){\n",
       "                            \n",
       "var gd = document.getElementById('d7bca6db-79bc-4601-9d9c-26f25c9e3861');\n",
       "var x = new MutationObserver(function (mutations, observer) {{\n",
       "        var display = window.getComputedStyle(gd).display;\n",
       "        if (!display || display === 'none') {{\n",
       "            console.log([gd, 'removed!']);\n",
       "            Plotly.purge(gd);\n",
       "            observer.disconnect();\n",
       "        }}\n",
       "}});\n",
       "\n",
       "// Listen for the removal of the full notebook cells\n",
       "var notebookContainer = gd.closest('#notebook-container');\n",
       "if (notebookContainer) {{\n",
       "    x.observe(notebookContainer, {childList: true});\n",
       "}}\n",
       "\n",
       "// Listen for the clearing of the current output cell\n",
       "var outputEl = gd.closest('.output');\n",
       "if (outputEl) {{\n",
       "    x.observe(outputEl, {childList: true});\n",
       "}}\n",
       "\n",
       "                        })\n",
       "                };\n",
       "                });\n",
       "            </script>\n",
       "        </div>"
      ]
     },
     "metadata": {},
     "output_type": "display_data"
    }
   ],
   "source": [
    "fig = px.bar(t4_normal, y='Region', x='percent', color='provider2', \n",
    "             orientation='h',\n",
    "            color_discrete_map={\"None\": px.colors.qualitative.Dark2[1], \"NPAP only\": \"cornflowerblue\", \"PAP only\": px.colors.qualitative.Pastel[4], \"both\":px.colors.qualitative.Pastel[9]},\n",
    "             #color_discrete_sequence=px.colors.qualitative.Pastel2,\n",
    "             hover_data=['count'],\n",
    "            labels={\"provider2\":\"Provider type\"},\n",
    "            category_orders={\"provider2\":['PAP only','both','NPAP only','None']},\n",
    "            title='Completion by Region',\n",
    "             text='count'\n",
    "            )\n",
    "\n",
    "\n",
    "fig.show()"
   ]
  },
  {
   "cell_type": "markdown",
   "metadata": {},
   "source": [
    "## Map"
   ]
  },
  {
   "cell_type": "code",
   "execution_count": 418,
   "metadata": {
    "collapsed": false,
    "scrolled": true
   },
   "outputs": [
    {
     "data": {
      "application/vnd.plotly.v1+json": {
       "config": {
        "plotlyServerURL": "https://plot.ly"
       },
       "data": [
        {
         "coloraxis": "coloraxis",
         "geo": "geo",
         "hoverlabel": {
          "namelength": 0
         },
         "hovertemplate": "locations=%{location}<br>color=%{z}",
         "locationmode": "country names",
         "locations": [
          "Afghanistan",
          "Albania",
          "Algeria",
          "Andorra",
          "Angola",
          "Antigua and Barbuda",
          "Argentina",
          "Armenia",
          "Aruba",
          "Australia",
          "Austria",
          "Azerbaijan",
          "Bahamas",
          "Bahrain",
          "Bangladesh",
          "Barbados",
          "Belarus",
          "Belgium",
          "Belize",
          "Benin",
          "Bermuda",
          "Bhutan",
          "Bolivia",
          "Bosnia and Herzegovina",
          "Botswana",
          "Brazil",
          "Brunei",
          "Brunei Darussalam",
          "Bulgaria",
          "Burkina Faso",
          "Burundi",
          "Cambodia",
          "Cameroon",
          "Canada",
          "Cape Verde",
          "Central African Republic",
          "Chad",
          "Chile",
          "China",
          "Colombia",
          "Comoros",
          "Congo, Democratic Republic of the",
          "Cook Islands",
          "Costa Rica",
          "Côte d'Ivoire",
          "Croatia",
          "Cuba",
          "Cyprus",
          "Czech Republic",
          "Denmark",
          "Djibouti",
          "Dominica",
          "Dominican Republic",
          "Ecuador",
          "Egypt",
          "El Salvador",
          "Equatorial Guinea",
          "Eritrea",
          "Estonia",
          "Ethiopia",
          "Fiji",
          "Finland",
          "France",
          "French Polynesia",
          "Gabon",
          "Gambia",
          "Georgia",
          "Germany",
          "Ghana",
          "Greece",
          "Grenada",
          "Guatemala",
          "Guinea",
          "Guinea-Bissau",
          "Guyana",
          "Haiti",
          "Honduras",
          "Hong Kong",
          "Hungary",
          "Iceland",
          "India",
          "Indonesia",
          "Iran",
          "Iraq",
          "Ireland",
          "Israel",
          "Italy",
          "Jamaica",
          "Japan",
          "Jordan",
          "Kazakhstan",
          "Kenya",
          "Kiribati",
          "Korea (Republic of)",
          "Kosovo",
          "Kuwait",
          "Kyrgyzstan",
          "Laos",
          "Latvia",
          "Lebanon",
          "Lesotho",
          "Liberia",
          "Libya",
          "Liechtenstein",
          "Lithuania",
          "Luxembourg",
          "Macedonia (the former Yugoslav Republic of)",
          "Madagascar",
          "Malawi",
          "Malaysia",
          "Maldives",
          "Mali",
          "Malta",
          "Marshall Islands",
          "Mauritania",
          "Mauritius",
          "Mexico",
          "Micronesia, Federated States of",
          "Moldova",
          "Mongolia",
          "Morocco",
          "Mozambique",
          "Myanmar",
          "Namibia",
          "Nauru",
          "Nepal",
          "Netherlands",
          "New Zealand",
          "Nicaragua",
          "Niger",
          "Nigeria",
          "Niue",
          "Norway",
          "Oman",
          "Pacific Islands",
          "Pakistan",
          "Palau",
          "Palestine",
          "Panama",
          "Papua New Guinea",
          "Paraguay",
          "Peru",
          "Philippines",
          "Poland",
          "Portugal",
          "Puerto Rico",
          "Qatar",
          "Republika Srpska",
          "Romania",
          "Russian Federation",
          "Rwanda",
          "Samoa",
          "Saudi Arabia",
          "Senegal",
          "Serbia",
          "Serbia and Montenegro",
          "Seychelles",
          "Sierra Leone",
          "Singapore",
          "Slovakia",
          "Slovenia",
          "Solomon Islands",
          "Somalia",
          "South Africa",
          "South Sudan",
          "Spain",
          "Sri Lanka",
          "Sudan",
          "Suriname",
          "Swaziland",
          "Sweden",
          "Switzerland",
          "Syrian Arab Republic",
          "Taiwan, Republic of China",
          "Tajikistan",
          "Tanzania",
          "Thailand",
          "Timor-Leste",
          "Togo",
          "Tokelau",
          "Tonga",
          "Trinidad and Tobago",
          "Tunisia",
          "Turkey",
          "Turkmenistan",
          "Tuvalu",
          "Uganda",
          "Ukraine",
          "United Arab Emirates",
          "United Kingdom",
          "United States of America",
          "Uruguay",
          "Uzbekistan",
          "Vanuatu",
          "Venezuela",
          "Vietnam",
          "West Africa",
          "Yemen",
          "Zambia",
          "Zimbabwe"
         ],
         "name": "",
         "type": "choropleth",
         "z": [
          0,
          0,
          0,
          0,
          0,
          0,
          1,
          0,
          0,
          3,
          1,
          0,
          0,
          0,
          1,
          0,
          0,
          1,
          3,
          3,
          0,
          3,
          0,
          2,
          0,
          1,
          0,
          1,
          0,
          3,
          3,
          0,
          0,
          1,
          0,
          0,
          0,
          0,
          1,
          1,
          0,
          0,
          1,
          0,
          1,
          1,
          1,
          0,
          1,
          2,
          0,
          0,
          0,
          1,
          0,
          0,
          0,
          0,
          1,
          2,
          3,
          2,
          3,
          0,
          0,
          3,
          0,
          0,
          2,
          1,
          0,
          0,
          0,
          0,
          0,
          0,
          0,
          0,
          2,
          2,
          1,
          3,
          0,
          1,
          0,
          1,
          1,
          0,
          3,
          1,
          0,
          1,
          0,
          3,
          0,
          3,
          0,
          0,
          1,
          3,
          0,
          1,
          0,
          0,
          1,
          0,
          1,
          0,
          0,
          3,
          1,
          1,
          0,
          0,
          0,
          3,
          0,
          0,
          0,
          1,
          3,
          0,
          0,
          1,
          1,
          1,
          2,
          0,
          0,
          3,
          3,
          0,
          3,
          1,
          0,
          1,
          0,
          0,
          0,
          3,
          0,
          0,
          0,
          1,
          1,
          0,
          0,
          0,
          1,
          1,
          3,
          1,
          1,
          0,
          1,
          0,
          0,
          3,
          0,
          0,
          3,
          1,
          1,
          3,
          0,
          3,
          1,
          0,
          0,
          1,
          3,
          2,
          1,
          2,
          0,
          0,
          3,
          3,
          3,
          0,
          3,
          1,
          2,
          0,
          0,
          0,
          3,
          0,
          0,
          3,
          1,
          0,
          0,
          0,
          0,
          0,
          0,
          1,
          3,
          0
         ]
        }
       ],
       "layout": {
        "coloraxis": {
         "colorbar": {
          "title": {
           "text": "color"
          }
         },
         "colorscale": [
          [
           0,
           "#0d0887"
          ],
          [
           0.1111111111111111,
           "#46039f"
          ],
          [
           0.2222222222222222,
           "#7201a8"
          ],
          [
           0.3333333333333333,
           "#9c179e"
          ],
          [
           0.4444444444444444,
           "#bd3786"
          ],
          [
           0.5555555555555556,
           "#d8576b"
          ],
          [
           0.6666666666666666,
           "#ed7953"
          ],
          [
           0.7777777777777778,
           "#fb9f3a"
          ],
          [
           0.8888888888888888,
           "#fdca26"
          ],
          [
           1,
           "#f0f921"
          ]
         ]
        },
        "geo": {
         "center": {},
         "domain": {
          "x": [
           0,
           0.98
          ],
          "y": [
           0,
           1
          ]
         },
         "scope": "world"
        },
        "height": 600,
        "legend": {
         "tracegroupgap": 0
        },
        "margin": {
         "t": 60
        },
        "template": {
         "data": {
          "bar": [
           {
            "error_x": {
             "color": "#2a3f5f"
            },
            "error_y": {
             "color": "#2a3f5f"
            },
            "marker": {
             "line": {
              "color": "#E5ECF6",
              "width": 0.5
             }
            },
            "type": "bar"
           }
          ],
          "barpolar": [
           {
            "marker": {
             "line": {
              "color": "#E5ECF6",
              "width": 0.5
             }
            },
            "type": "barpolar"
           }
          ],
          "carpet": [
           {
            "aaxis": {
             "endlinecolor": "#2a3f5f",
             "gridcolor": "white",
             "linecolor": "white",
             "minorgridcolor": "white",
             "startlinecolor": "#2a3f5f"
            },
            "baxis": {
             "endlinecolor": "#2a3f5f",
             "gridcolor": "white",
             "linecolor": "white",
             "minorgridcolor": "white",
             "startlinecolor": "#2a3f5f"
            },
            "type": "carpet"
           }
          ],
          "choropleth": [
           {
            "colorbar": {
             "outlinewidth": 0,
             "ticks": ""
            },
            "type": "choropleth"
           }
          ],
          "contour": [
           {
            "colorbar": {
             "outlinewidth": 0,
             "ticks": ""
            },
            "colorscale": [
             [
              0,
              "#0d0887"
             ],
             [
              0.1111111111111111,
              "#46039f"
             ],
             [
              0.2222222222222222,
              "#7201a8"
             ],
             [
              0.3333333333333333,
              "#9c179e"
             ],
             [
              0.4444444444444444,
              "#bd3786"
             ],
             [
              0.5555555555555556,
              "#d8576b"
             ],
             [
              0.6666666666666666,
              "#ed7953"
             ],
             [
              0.7777777777777778,
              "#fb9f3a"
             ],
             [
              0.8888888888888888,
              "#fdca26"
             ],
             [
              1,
              "#f0f921"
             ]
            ],
            "type": "contour"
           }
          ],
          "contourcarpet": [
           {
            "colorbar": {
             "outlinewidth": 0,
             "ticks": ""
            },
            "type": "contourcarpet"
           }
          ],
          "heatmap": [
           {
            "colorbar": {
             "outlinewidth": 0,
             "ticks": ""
            },
            "colorscale": [
             [
              0,
              "#0d0887"
             ],
             [
              0.1111111111111111,
              "#46039f"
             ],
             [
              0.2222222222222222,
              "#7201a8"
             ],
             [
              0.3333333333333333,
              "#9c179e"
             ],
             [
              0.4444444444444444,
              "#bd3786"
             ],
             [
              0.5555555555555556,
              "#d8576b"
             ],
             [
              0.6666666666666666,
              "#ed7953"
             ],
             [
              0.7777777777777778,
              "#fb9f3a"
             ],
             [
              0.8888888888888888,
              "#fdca26"
             ],
             [
              1,
              "#f0f921"
             ]
            ],
            "type": "heatmap"
           }
          ],
          "heatmapgl": [
           {
            "colorbar": {
             "outlinewidth": 0,
             "ticks": ""
            },
            "colorscale": [
             [
              0,
              "#0d0887"
             ],
             [
              0.1111111111111111,
              "#46039f"
             ],
             [
              0.2222222222222222,
              "#7201a8"
             ],
             [
              0.3333333333333333,
              "#9c179e"
             ],
             [
              0.4444444444444444,
              "#bd3786"
             ],
             [
              0.5555555555555556,
              "#d8576b"
             ],
             [
              0.6666666666666666,
              "#ed7953"
             ],
             [
              0.7777777777777778,
              "#fb9f3a"
             ],
             [
              0.8888888888888888,
              "#fdca26"
             ],
             [
              1,
              "#f0f921"
             ]
            ],
            "type": "heatmapgl"
           }
          ],
          "histogram": [
           {
            "marker": {
             "colorbar": {
              "outlinewidth": 0,
              "ticks": ""
             }
            },
            "type": "histogram"
           }
          ],
          "histogram2d": [
           {
            "colorbar": {
             "outlinewidth": 0,
             "ticks": ""
            },
            "colorscale": [
             [
              0,
              "#0d0887"
             ],
             [
              0.1111111111111111,
              "#46039f"
             ],
             [
              0.2222222222222222,
              "#7201a8"
             ],
             [
              0.3333333333333333,
              "#9c179e"
             ],
             [
              0.4444444444444444,
              "#bd3786"
             ],
             [
              0.5555555555555556,
              "#d8576b"
             ],
             [
              0.6666666666666666,
              "#ed7953"
             ],
             [
              0.7777777777777778,
              "#fb9f3a"
             ],
             [
              0.8888888888888888,
              "#fdca26"
             ],
             [
              1,
              "#f0f921"
             ]
            ],
            "type": "histogram2d"
           }
          ],
          "histogram2dcontour": [
           {
            "colorbar": {
             "outlinewidth": 0,
             "ticks": ""
            },
            "colorscale": [
             [
              0,
              "#0d0887"
             ],
             [
              0.1111111111111111,
              "#46039f"
             ],
             [
              0.2222222222222222,
              "#7201a8"
             ],
             [
              0.3333333333333333,
              "#9c179e"
             ],
             [
              0.4444444444444444,
              "#bd3786"
             ],
             [
              0.5555555555555556,
              "#d8576b"
             ],
             [
              0.6666666666666666,
              "#ed7953"
             ],
             [
              0.7777777777777778,
              "#fb9f3a"
             ],
             [
              0.8888888888888888,
              "#fdca26"
             ],
             [
              1,
              "#f0f921"
             ]
            ],
            "type": "histogram2dcontour"
           }
          ],
          "mesh3d": [
           {
            "colorbar": {
             "outlinewidth": 0,
             "ticks": ""
            },
            "type": "mesh3d"
           }
          ],
          "parcoords": [
           {
            "line": {
             "colorbar": {
              "outlinewidth": 0,
              "ticks": ""
             }
            },
            "type": "parcoords"
           }
          ],
          "scatter": [
           {
            "marker": {
             "colorbar": {
              "outlinewidth": 0,
              "ticks": ""
             }
            },
            "type": "scatter"
           }
          ],
          "scatter3d": [
           {
            "line": {
             "colorbar": {
              "outlinewidth": 0,
              "ticks": ""
             }
            },
            "marker": {
             "colorbar": {
              "outlinewidth": 0,
              "ticks": ""
             }
            },
            "type": "scatter3d"
           }
          ],
          "scattercarpet": [
           {
            "marker": {
             "colorbar": {
              "outlinewidth": 0,
              "ticks": ""
             }
            },
            "type": "scattercarpet"
           }
          ],
          "scattergeo": [
           {
            "marker": {
             "colorbar": {
              "outlinewidth": 0,
              "ticks": ""
             }
            },
            "type": "scattergeo"
           }
          ],
          "scattergl": [
           {
            "marker": {
             "colorbar": {
              "outlinewidth": 0,
              "ticks": ""
             }
            },
            "type": "scattergl"
           }
          ],
          "scattermapbox": [
           {
            "marker": {
             "colorbar": {
              "outlinewidth": 0,
              "ticks": ""
             }
            },
            "type": "scattermapbox"
           }
          ],
          "scatterpolar": [
           {
            "marker": {
             "colorbar": {
              "outlinewidth": 0,
              "ticks": ""
             }
            },
            "type": "scatterpolar"
           }
          ],
          "scatterpolargl": [
           {
            "marker": {
             "colorbar": {
              "outlinewidth": 0,
              "ticks": ""
             }
            },
            "type": "scatterpolargl"
           }
          ],
          "scatterternary": [
           {
            "marker": {
             "colorbar": {
              "outlinewidth": 0,
              "ticks": ""
             }
            },
            "type": "scatterternary"
           }
          ],
          "surface": [
           {
            "colorbar": {
             "outlinewidth": 0,
             "ticks": ""
            },
            "colorscale": [
             [
              0,
              "#0d0887"
             ],
             [
              0.1111111111111111,
              "#46039f"
             ],
             [
              0.2222222222222222,
              "#7201a8"
             ],
             [
              0.3333333333333333,
              "#9c179e"
             ],
             [
              0.4444444444444444,
              "#bd3786"
             ],
             [
              0.5555555555555556,
              "#d8576b"
             ],
             [
              0.6666666666666666,
              "#ed7953"
             ],
             [
              0.7777777777777778,
              "#fb9f3a"
             ],
             [
              0.8888888888888888,
              "#fdca26"
             ],
             [
              1,
              "#f0f921"
             ]
            ],
            "type": "surface"
           }
          ],
          "table": [
           {
            "cells": {
             "fill": {
              "color": "#EBF0F8"
             },
             "line": {
              "color": "white"
             }
            },
            "header": {
             "fill": {
              "color": "#C8D4E3"
             },
             "line": {
              "color": "white"
             }
            },
            "type": "table"
           }
          ]
         },
         "layout": {
          "annotationdefaults": {
           "arrowcolor": "#2a3f5f",
           "arrowhead": 0,
           "arrowwidth": 1
          },
          "colorscale": {
           "diverging": [
            [
             0,
             "#8e0152"
            ],
            [
             0.1,
             "#c51b7d"
            ],
            [
             0.2,
             "#de77ae"
            ],
            [
             0.3,
             "#f1b6da"
            ],
            [
             0.4,
             "#fde0ef"
            ],
            [
             0.5,
             "#f7f7f7"
            ],
            [
             0.6,
             "#e6f5d0"
            ],
            [
             0.7,
             "#b8e186"
            ],
            [
             0.8,
             "#7fbc41"
            ],
            [
             0.9,
             "#4d9221"
            ],
            [
             1,
             "#276419"
            ]
           ],
           "sequential": [
            [
             0,
             "#0d0887"
            ],
            [
             0.1111111111111111,
             "#46039f"
            ],
            [
             0.2222222222222222,
             "#7201a8"
            ],
            [
             0.3333333333333333,
             "#9c179e"
            ],
            [
             0.4444444444444444,
             "#bd3786"
            ],
            [
             0.5555555555555556,
             "#d8576b"
            ],
            [
             0.6666666666666666,
             "#ed7953"
            ],
            [
             0.7777777777777778,
             "#fb9f3a"
            ],
            [
             0.8888888888888888,
             "#fdca26"
            ],
            [
             1,
             "#f0f921"
            ]
           ],
           "sequentialminus": [
            [
             0,
             "#0d0887"
            ],
            [
             0.1111111111111111,
             "#46039f"
            ],
            [
             0.2222222222222222,
             "#7201a8"
            ],
            [
             0.3333333333333333,
             "#9c179e"
            ],
            [
             0.4444444444444444,
             "#bd3786"
            ],
            [
             0.5555555555555556,
             "#d8576b"
            ],
            [
             0.6666666666666666,
             "#ed7953"
            ],
            [
             0.7777777777777778,
             "#fb9f3a"
            ],
            [
             0.8888888888888888,
             "#fdca26"
            ],
            [
             1,
             "#f0f921"
            ]
           ]
          },
          "colorway": [
           "#636efa",
           "#EF553B",
           "#00cc96",
           "#ab63fa",
           "#FFA15A",
           "#19d3f3",
           "#FF6692",
           "#B6E880",
           "#FF97FF",
           "#FECB52"
          ],
          "font": {
           "color": "#2a3f5f"
          },
          "geo": {
           "bgcolor": "white",
           "lakecolor": "white",
           "landcolor": "#E5ECF6",
           "showlakes": true,
           "showland": true,
           "subunitcolor": "white"
          },
          "hoverlabel": {
           "align": "left"
          },
          "hovermode": "closest",
          "mapbox": {
           "style": "light"
          },
          "paper_bgcolor": "white",
          "plot_bgcolor": "#E5ECF6",
          "polar": {
           "angularaxis": {
            "gridcolor": "white",
            "linecolor": "white",
            "ticks": ""
           },
           "bgcolor": "#E5ECF6",
           "radialaxis": {
            "gridcolor": "white",
            "linecolor": "white",
            "ticks": ""
           }
          },
          "scene": {
           "xaxis": {
            "backgroundcolor": "#E5ECF6",
            "gridcolor": "white",
            "gridwidth": 2,
            "linecolor": "white",
            "showbackground": true,
            "ticks": "",
            "zerolinecolor": "white"
           },
           "yaxis": {
            "backgroundcolor": "#E5ECF6",
            "gridcolor": "white",
            "gridwidth": 2,
            "linecolor": "white",
            "showbackground": true,
            "ticks": "",
            "zerolinecolor": "white"
           },
           "zaxis": {
            "backgroundcolor": "#E5ECF6",
            "gridcolor": "white",
            "gridwidth": 2,
            "linecolor": "white",
            "showbackground": true,
            "ticks": "",
            "zerolinecolor": "white"
           }
          },
          "shapedefaults": {
           "line": {
            "color": "#2a3f5f"
           }
          },
          "ternary": {
           "aaxis": {
            "gridcolor": "white",
            "linecolor": "white",
            "ticks": ""
           },
           "baxis": {
            "gridcolor": "white",
            "linecolor": "white",
            "ticks": ""
           },
           "bgcolor": "#E5ECF6",
           "caxis": {
            "gridcolor": "white",
            "linecolor": "white",
            "ticks": ""
           }
          },
          "title": {
           "x": 0.05
          },
          "xaxis": {
           "automargin": true,
           "gridcolor": "white",
           "linecolor": "white",
           "ticks": "",
           "zerolinecolor": "white",
           "zerolinewidth": 2
          },
          "yaxis": {
           "automargin": true,
           "gridcolor": "white",
           "linecolor": "white",
           "ticks": "",
           "zerolinecolor": "white",
           "zerolinewidth": 2
          }
         }
        }
       }
      },
      "text/html": [
       "<div>\n",
       "        \n",
       "        \n",
       "            <div id=\"1706b938-6f18-434c-b1e8-28655f173919\" class=\"plotly-graph-div\" style=\"height:600px; width:100%;\"></div>\n",
       "            <script type=\"text/javascript\">\n",
       "                require([\"plotly\"], function(Plotly) {\n",
       "                    window.PLOTLYENV=window.PLOTLYENV || {};\n",
       "                    \n",
       "                if (document.getElementById(\"1706b938-6f18-434c-b1e8-28655f173919\")) {\n",
       "                    Plotly.newPlot(\n",
       "                        '1706b938-6f18-434c-b1e8-28655f173919',\n",
       "                        [{\"coloraxis\": \"coloraxis\", \"geo\": \"geo\", \"hoverlabel\": {\"namelength\": 0}, \"hovertemplate\": \"locations=%{location}<br>color=%{z}\", \"locationmode\": \"country names\", \"locations\": [\"Afghanistan\", \"Albania\", \"Algeria\", \"Andorra\", \"Angola\", \"Antigua and Barbuda\", \"Argentina\", \"Armenia\", \"Aruba\", \"Australia\", \"Austria\", \"Azerbaijan\", \"Bahamas\", \"Bahrain\", \"Bangladesh\", \"Barbados\", \"Belarus\", \"Belgium\", \"Belize\", \"Benin\", \"Bermuda\", \"Bhutan\", \"Bolivia\", \"Bosnia and Herzegovina\", \"Botswana\", \"Brazil\", \"Brunei\", \"Brunei Darussalam\", \"Bulgaria\", \"Burkina Faso\", \"Burundi\", \"Cambodia\", \"Cameroon\", \"Canada\", \"Cape Verde\", \"Central African Republic\", \"Chad\", \"Chile\", \"China\", \"Colombia\", \"Comoros\", \"Congo, Democratic Republic of the\", \"Cook Islands\", \"Costa Rica\", \"C\\u00f4te d'Ivoire\", \"Croatia\", \"Cuba\", \"Cyprus\", \"Czech Republic\", \"Denmark\", \"Djibouti\", \"Dominica\", \"Dominican Republic\", \"Ecuador\", \"Egypt\", \"El Salvador\", \"Equatorial Guinea\", \"Eritrea\", \"Estonia\", \"Ethiopia\", \"Fiji\", \"Finland\", \"France\", \"French Polynesia\", \"Gabon\", \"Gambia\", \"Georgia\", \"Germany\", \"Ghana\", \"Greece\", \"Grenada\", \"Guatemala\", \"Guinea\", \"Guinea-Bissau\", \"Guyana\", \"Haiti\", \"Honduras\", \"Hong Kong\", \"Hungary\", \"Iceland\", \"India\", \"Indonesia\", \"Iran\", \"Iraq\", \"Ireland\", \"Israel\", \"Italy\", \"Jamaica\", \"Japan\", \"Jordan\", \"Kazakhstan\", \"Kenya\", \"Kiribati\", \"Korea (Republic of)\", \"Kosovo\", \"Kuwait\", \"Kyrgyzstan\", \"Laos\", \"Latvia\", \"Lebanon\", \"Lesotho\", \"Liberia\", \"Libya\", \"Liechtenstein\", \"Lithuania\", \"Luxembourg\", \"Macedonia (the former Yugoslav Republic of)\", \"Madagascar\", \"Malawi\", \"Malaysia\", \"Maldives\", \"Mali\", \"Malta\", \"Marshall Islands\", \"Mauritania\", \"Mauritius\", \"Mexico\", \"Micronesia, Federated States of\", \"Moldova\", \"Mongolia\", \"Morocco\", \"Mozambique\", \"Myanmar\", \"Namibia\", \"Nauru\", \"Nepal\", \"Netherlands\", \"New Zealand\", \"Nicaragua\", \"Niger\", \"Nigeria\", \"Niue\", \"Norway\", \"Oman\", \"Pacific Islands\", \"Pakistan\", \"Palau\", \"Palestine\", \"Panama\", \"Papua New Guinea\", \"Paraguay\", \"Peru\", \"Philippines\", \"Poland\", \"Portugal\", \"Puerto Rico\", \"Qatar\", \"Republika Srpska\", \"Romania\", \"Russian Federation\", \"Rwanda\", \"Samoa\", \"Saudi Arabia\", \"Senegal\", \"Serbia\", \"Serbia and Montenegro\", \"Seychelles\", \"Sierra Leone\", \"Singapore\", \"Slovakia\", \"Slovenia\", \"Solomon Islands\", \"Somalia\", \"South Africa\", \"South Sudan\", \"Spain\", \"Sri Lanka\", \"Sudan\", \"Suriname\", \"Swaziland\", \"Sweden\", \"Switzerland\", \"Syrian Arab Republic\", \"Taiwan, Republic of China\", \"Tajikistan\", \"Tanzania\", \"Thailand\", \"Timor-Leste\", \"Togo\", \"Tokelau\", \"Tonga\", \"Trinidad and Tobago\", \"Tunisia\", \"Turkey\", \"Turkmenistan\", \"Tuvalu\", \"Uganda\", \"Ukraine\", \"United Arab Emirates\", \"United Kingdom\", \"United States of America\", \"Uruguay\", \"Uzbekistan\", \"Vanuatu\", \"Venezuela\", \"Vietnam\", \"West Africa\", \"Yemen\", \"Zambia\", \"Zimbabwe\"], \"name\": \"\", \"type\": \"choropleth\", \"z\": [0, 0, 0, 0, 0, 0, 1, 0, 0, 3, 1, 0, 0, 0, 1, 0, 0, 1, 3, 3, 0, 3, 0, 2, 0, 1, 0, 1, 0, 3, 3, 0, 0, 1, 0, 0, 0, 0, 1, 1, 0, 0, 1, 0, 1, 1, 1, 0, 1, 2, 0, 0, 0, 1, 0, 0, 0, 0, 1, 2, 3, 2, 3, 0, 0, 3, 0, 0, 2, 1, 0, 0, 0, 0, 0, 0, 0, 0, 2, 2, 1, 3, 0, 1, 0, 1, 1, 0, 3, 1, 0, 1, 0, 3, 0, 3, 0, 0, 1, 3, 0, 1, 0, 0, 1, 0, 1, 0, 0, 3, 1, 1, 0, 0, 0, 3, 0, 0, 0, 1, 3, 0, 0, 1, 1, 1, 2, 0, 0, 3, 3, 0, 3, 1, 0, 1, 0, 0, 0, 3, 0, 0, 0, 1, 1, 0, 0, 0, 1, 1, 3, 1, 1, 0, 1, 0, 0, 3, 0, 0, 3, 1, 1, 3, 0, 3, 1, 0, 0, 1, 3, 2, 1, 2, 0, 0, 3, 3, 3, 0, 3, 1, 2, 0, 0, 0, 3, 0, 0, 3, 1, 0, 0, 0, 0, 0, 0, 1, 3, 0]}],\n",
       "                        {\"coloraxis\": {\"colorbar\": {\"title\": {\"text\": \"color\"}}, \"colorscale\": [[0.0, \"#0d0887\"], [0.1111111111111111, \"#46039f\"], [0.2222222222222222, \"#7201a8\"], [0.3333333333333333, \"#9c179e\"], [0.4444444444444444, \"#bd3786\"], [0.5555555555555556, \"#d8576b\"], [0.6666666666666666, \"#ed7953\"], [0.7777777777777778, \"#fb9f3a\"], [0.8888888888888888, \"#fdca26\"], [1.0, \"#f0f921\"]]}, \"geo\": {\"center\": {}, \"domain\": {\"x\": [0.0, 0.98], \"y\": [0.0, 1.0]}, \"scope\": \"world\"}, \"height\": 600, \"legend\": {\"tracegroupgap\": 0}, \"margin\": {\"t\": 60}, \"template\": {\"data\": {\"bar\": [{\"error_x\": {\"color\": \"#2a3f5f\"}, \"error_y\": {\"color\": \"#2a3f5f\"}, \"marker\": {\"line\": {\"color\": \"#E5ECF6\", \"width\": 0.5}}, \"type\": \"bar\"}], \"barpolar\": [{\"marker\": {\"line\": {\"color\": \"#E5ECF6\", \"width\": 0.5}}, \"type\": \"barpolar\"}], \"carpet\": [{\"aaxis\": {\"endlinecolor\": \"#2a3f5f\", \"gridcolor\": \"white\", \"linecolor\": \"white\", \"minorgridcolor\": \"white\", \"startlinecolor\": \"#2a3f5f\"}, \"baxis\": {\"endlinecolor\": \"#2a3f5f\", \"gridcolor\": \"white\", \"linecolor\": \"white\", \"minorgridcolor\": \"white\", \"startlinecolor\": \"#2a3f5f\"}, \"type\": \"carpet\"}], \"choropleth\": [{\"colorbar\": {\"outlinewidth\": 0, \"ticks\": \"\"}, \"type\": \"choropleth\"}], \"contour\": [{\"colorbar\": {\"outlinewidth\": 0, \"ticks\": \"\"}, \"colorscale\": [[0.0, \"#0d0887\"], [0.1111111111111111, \"#46039f\"], [0.2222222222222222, \"#7201a8\"], [0.3333333333333333, \"#9c179e\"], [0.4444444444444444, \"#bd3786\"], [0.5555555555555556, \"#d8576b\"], [0.6666666666666666, \"#ed7953\"], [0.7777777777777778, \"#fb9f3a\"], [0.8888888888888888, \"#fdca26\"], [1.0, \"#f0f921\"]], \"type\": \"contour\"}], \"contourcarpet\": [{\"colorbar\": {\"outlinewidth\": 0, \"ticks\": \"\"}, \"type\": \"contourcarpet\"}], \"heatmap\": [{\"colorbar\": {\"outlinewidth\": 0, \"ticks\": \"\"}, \"colorscale\": [[0.0, \"#0d0887\"], [0.1111111111111111, \"#46039f\"], [0.2222222222222222, \"#7201a8\"], [0.3333333333333333, \"#9c179e\"], [0.4444444444444444, \"#bd3786\"], [0.5555555555555556, \"#d8576b\"], [0.6666666666666666, \"#ed7953\"], [0.7777777777777778, \"#fb9f3a\"], [0.8888888888888888, \"#fdca26\"], [1.0, \"#f0f921\"]], \"type\": \"heatmap\"}], \"heatmapgl\": [{\"colorbar\": {\"outlinewidth\": 0, \"ticks\": \"\"}, \"colorscale\": [[0.0, \"#0d0887\"], [0.1111111111111111, \"#46039f\"], [0.2222222222222222, \"#7201a8\"], [0.3333333333333333, \"#9c179e\"], [0.4444444444444444, \"#bd3786\"], [0.5555555555555556, \"#d8576b\"], [0.6666666666666666, \"#ed7953\"], [0.7777777777777778, \"#fb9f3a\"], [0.8888888888888888, \"#fdca26\"], [1.0, \"#f0f921\"]], \"type\": \"heatmapgl\"}], \"histogram\": [{\"marker\": {\"colorbar\": {\"outlinewidth\": 0, \"ticks\": \"\"}}, \"type\": \"histogram\"}], \"histogram2d\": [{\"colorbar\": {\"outlinewidth\": 0, \"ticks\": \"\"}, \"colorscale\": [[0.0, \"#0d0887\"], [0.1111111111111111, \"#46039f\"], [0.2222222222222222, \"#7201a8\"], [0.3333333333333333, \"#9c179e\"], [0.4444444444444444, \"#bd3786\"], [0.5555555555555556, \"#d8576b\"], [0.6666666666666666, \"#ed7953\"], [0.7777777777777778, \"#fb9f3a\"], [0.8888888888888888, \"#fdca26\"], [1.0, \"#f0f921\"]], \"type\": \"histogram2d\"}], \"histogram2dcontour\": [{\"colorbar\": {\"outlinewidth\": 0, \"ticks\": \"\"}, \"colorscale\": [[0.0, \"#0d0887\"], [0.1111111111111111, \"#46039f\"], [0.2222222222222222, \"#7201a8\"], [0.3333333333333333, \"#9c179e\"], [0.4444444444444444, \"#bd3786\"], [0.5555555555555556, \"#d8576b\"], [0.6666666666666666, \"#ed7953\"], [0.7777777777777778, \"#fb9f3a\"], [0.8888888888888888, \"#fdca26\"], [1.0, \"#f0f921\"]], \"type\": \"histogram2dcontour\"}], \"mesh3d\": [{\"colorbar\": {\"outlinewidth\": 0, \"ticks\": \"\"}, \"type\": \"mesh3d\"}], \"parcoords\": [{\"line\": {\"colorbar\": {\"outlinewidth\": 0, \"ticks\": \"\"}}, \"type\": \"parcoords\"}], \"scatter\": [{\"marker\": {\"colorbar\": {\"outlinewidth\": 0, \"ticks\": \"\"}}, \"type\": \"scatter\"}], \"scatter3d\": [{\"line\": {\"colorbar\": {\"outlinewidth\": 0, \"ticks\": \"\"}}, \"marker\": {\"colorbar\": {\"outlinewidth\": 0, \"ticks\": \"\"}}, \"type\": \"scatter3d\"}], \"scattercarpet\": [{\"marker\": {\"colorbar\": {\"outlinewidth\": 0, \"ticks\": \"\"}}, \"type\": \"scattercarpet\"}], \"scattergeo\": [{\"marker\": {\"colorbar\": {\"outlinewidth\": 0, \"ticks\": \"\"}}, \"type\": \"scattergeo\"}], \"scattergl\": [{\"marker\": {\"colorbar\": {\"outlinewidth\": 0, \"ticks\": \"\"}}, \"type\": \"scattergl\"}], \"scattermapbox\": [{\"marker\": {\"colorbar\": {\"outlinewidth\": 0, \"ticks\": \"\"}}, \"type\": \"scattermapbox\"}], \"scatterpolar\": [{\"marker\": {\"colorbar\": {\"outlinewidth\": 0, \"ticks\": \"\"}}, \"type\": \"scatterpolar\"}], \"scatterpolargl\": [{\"marker\": {\"colorbar\": {\"outlinewidth\": 0, \"ticks\": \"\"}}, \"type\": \"scatterpolargl\"}], \"scatterternary\": [{\"marker\": {\"colorbar\": {\"outlinewidth\": 0, \"ticks\": \"\"}}, \"type\": \"scatterternary\"}], \"surface\": [{\"colorbar\": {\"outlinewidth\": 0, \"ticks\": \"\"}, \"colorscale\": [[0.0, \"#0d0887\"], [0.1111111111111111, \"#46039f\"], [0.2222222222222222, \"#7201a8\"], [0.3333333333333333, \"#9c179e\"], [0.4444444444444444, \"#bd3786\"], [0.5555555555555556, \"#d8576b\"], [0.6666666666666666, \"#ed7953\"], [0.7777777777777778, \"#fb9f3a\"], [0.8888888888888888, \"#fdca26\"], [1.0, \"#f0f921\"]], \"type\": \"surface\"}], \"table\": [{\"cells\": {\"fill\": {\"color\": \"#EBF0F8\"}, \"line\": {\"color\": \"white\"}}, \"header\": {\"fill\": {\"color\": \"#C8D4E3\"}, \"line\": {\"color\": \"white\"}}, \"type\": \"table\"}]}, \"layout\": {\"annotationdefaults\": {\"arrowcolor\": \"#2a3f5f\", \"arrowhead\": 0, \"arrowwidth\": 1}, \"colorscale\": {\"diverging\": [[0, \"#8e0152\"], [0.1, \"#c51b7d\"], [0.2, \"#de77ae\"], [0.3, \"#f1b6da\"], [0.4, \"#fde0ef\"], [0.5, \"#f7f7f7\"], [0.6, \"#e6f5d0\"], [0.7, \"#b8e186\"], [0.8, \"#7fbc41\"], [0.9, \"#4d9221\"], [1, \"#276419\"]], \"sequential\": [[0.0, \"#0d0887\"], [0.1111111111111111, \"#46039f\"], [0.2222222222222222, \"#7201a8\"], [0.3333333333333333, \"#9c179e\"], [0.4444444444444444, \"#bd3786\"], [0.5555555555555556, \"#d8576b\"], [0.6666666666666666, \"#ed7953\"], [0.7777777777777778, \"#fb9f3a\"], [0.8888888888888888, \"#fdca26\"], [1.0, \"#f0f921\"]], \"sequentialminus\": [[0.0, \"#0d0887\"], [0.1111111111111111, \"#46039f\"], [0.2222222222222222, \"#7201a8\"], [0.3333333333333333, \"#9c179e\"], [0.4444444444444444, \"#bd3786\"], [0.5555555555555556, \"#d8576b\"], [0.6666666666666666, \"#ed7953\"], [0.7777777777777778, \"#fb9f3a\"], [0.8888888888888888, \"#fdca26\"], [1.0, \"#f0f921\"]]}, \"colorway\": [\"#636efa\", \"#EF553B\", \"#00cc96\", \"#ab63fa\", \"#FFA15A\", \"#19d3f3\", \"#FF6692\", \"#B6E880\", \"#FF97FF\", \"#FECB52\"], \"font\": {\"color\": \"#2a3f5f\"}, \"geo\": {\"bgcolor\": \"white\", \"lakecolor\": \"white\", \"landcolor\": \"#E5ECF6\", \"showlakes\": true, \"showland\": true, \"subunitcolor\": \"white\"}, \"hoverlabel\": {\"align\": \"left\"}, \"hovermode\": \"closest\", \"mapbox\": {\"style\": \"light\"}, \"paper_bgcolor\": \"white\", \"plot_bgcolor\": \"#E5ECF6\", \"polar\": {\"angularaxis\": {\"gridcolor\": \"white\", \"linecolor\": \"white\", \"ticks\": \"\"}, \"bgcolor\": \"#E5ECF6\", \"radialaxis\": {\"gridcolor\": \"white\", \"linecolor\": \"white\", \"ticks\": \"\"}}, \"scene\": {\"xaxis\": {\"backgroundcolor\": \"#E5ECF6\", \"gridcolor\": \"white\", \"gridwidth\": 2, \"linecolor\": \"white\", \"showbackground\": true, \"ticks\": \"\", \"zerolinecolor\": \"white\"}, \"yaxis\": {\"backgroundcolor\": \"#E5ECF6\", \"gridcolor\": \"white\", \"gridwidth\": 2, \"linecolor\": \"white\", \"showbackground\": true, \"ticks\": \"\", \"zerolinecolor\": \"white\"}, \"zaxis\": {\"backgroundcolor\": \"#E5ECF6\", \"gridcolor\": \"white\", \"gridwidth\": 2, \"linecolor\": \"white\", \"showbackground\": true, \"ticks\": \"\", \"zerolinecolor\": \"white\"}}, \"shapedefaults\": {\"line\": {\"color\": \"#2a3f5f\"}}, \"ternary\": {\"aaxis\": {\"gridcolor\": \"white\", \"linecolor\": \"white\", \"ticks\": \"\"}, \"baxis\": {\"gridcolor\": \"white\", \"linecolor\": \"white\", \"ticks\": \"\"}, \"bgcolor\": \"#E5ECF6\", \"caxis\": {\"gridcolor\": \"white\", \"linecolor\": \"white\", \"ticks\": \"\"}}, \"title\": {\"x\": 0.05}, \"xaxis\": {\"automargin\": true, \"gridcolor\": \"white\", \"linecolor\": \"white\", \"ticks\": \"\", \"zerolinecolor\": \"white\", \"zerolinewidth\": 2}, \"yaxis\": {\"automargin\": true, \"gridcolor\": \"white\", \"linecolor\": \"white\", \"ticks\": \"\", \"zerolinecolor\": \"white\", \"zerolinewidth\": 2}}}},\n",
       "                        {\"responsive\": true}\n",
       "                    ).then(function(){\n",
       "                            \n",
       "var gd = document.getElementById('1706b938-6f18-434c-b1e8-28655f173919');\n",
       "var x = new MutationObserver(function (mutations, observer) {{\n",
       "        var display = window.getComputedStyle(gd).display;\n",
       "        if (!display || display === 'none') {{\n",
       "            console.log([gd, 'removed!']);\n",
       "            Plotly.purge(gd);\n",
       "            observer.disconnect();\n",
       "        }}\n",
       "}});\n",
       "\n",
       "// Listen for the removal of the full notebook cells\n",
       "var notebookContainer = gd.closest('#notebook-container');\n",
       "if (notebookContainer) {{\n",
       "    x.observe(notebookContainer, {childList: true});\n",
       "}}\n",
       "\n",
       "// Listen for the clearing of the current output cell\n",
       "var outputEl = gd.closest('.output');\n",
       "if (outputEl) {{\n",
       "    x.observe(outputEl, {childList: true});\n",
       "}}\n",
       "\n",
       "                        })\n",
       "                };\n",
       "                });\n",
       "            </script>\n",
       "        </div>"
      ]
     },
     "metadata": {},
     "output_type": "display_data"
    }
   ],
   "source": [
    "fig = px.choropleth(locations=haspap['Country'], locationmode='country names', scope='world',color=haspap['provider type'])\n",
    "\n",
    "fig.show()"
   ]
  },
  {
   "cell_type": "code",
   "execution_count": 370,
   "metadata": {
    "collapsed": false
   },
   "outputs": [
    {
     "data": {
      "text/html": [
       "<div>\n",
       "<style scoped>\n",
       "    .dataframe tbody tr th:only-of-type {\n",
       "        vertical-align: middle;\n",
       "    }\n",
       "\n",
       "    .dataframe tbody tr th {\n",
       "        vertical-align: top;\n",
       "    }\n",
       "\n",
       "    .dataframe thead th {\n",
       "        text-align: right;\n",
       "    }\n",
       "</style>\n",
       "<table border=\"1\" class=\"dataframe\">\n",
       "  <thead>\n",
       "    <tr style=\"text-align: right;\">\n",
       "      <th></th>\n",
       "      <th>Region</th>\n",
       "      <th>Country</th>\n",
       "      <th>Country_iso</th>\n",
       "      <th>provider type</th>\n",
       "      <th>provider2</th>\n",
       "    </tr>\n",
       "  </thead>\n",
       "  <tbody>\n",
       "    <tr>\n",
       "      <th>0</th>\n",
       "      <td>Eastern Mediterranean Region</td>\n",
       "      <td>Afghanistan</td>\n",
       "      <td>AFG</td>\n",
       "      <td>0</td>\n",
       "      <td>None</td>\n",
       "    </tr>\n",
       "    <tr>\n",
       "      <th>1</th>\n",
       "      <td>European Region</td>\n",
       "      <td>Albania</td>\n",
       "      <td>ALB</td>\n",
       "      <td>0</td>\n",
       "      <td>None</td>\n",
       "    </tr>\n",
       "    <tr>\n",
       "      <th>2</th>\n",
       "      <td>African Region</td>\n",
       "      <td>Algeria</td>\n",
       "      <td>DZA</td>\n",
       "      <td>0</td>\n",
       "      <td>None</td>\n",
       "    </tr>\n",
       "    <tr>\n",
       "      <th>3</th>\n",
       "      <td>European Region</td>\n",
       "      <td>Andorra</td>\n",
       "      <td>AND</td>\n",
       "      <td>0</td>\n",
       "      <td>None</td>\n",
       "    </tr>\n",
       "    <tr>\n",
       "      <th>4</th>\n",
       "      <td>African Region</td>\n",
       "      <td>Angola</td>\n",
       "      <td>AGO</td>\n",
       "      <td>0</td>\n",
       "      <td>None</td>\n",
       "    </tr>\n",
       "    <tr>\n",
       "      <th>...</th>\n",
       "      <td>...</td>\n",
       "      <td>...</td>\n",
       "      <td>...</td>\n",
       "      <td>...</td>\n",
       "      <td>...</td>\n",
       "    </tr>\n",
       "    <tr>\n",
       "      <th>195</th>\n",
       "      <td>Western Pacific Region</td>\n",
       "      <td>Vietnam</td>\n",
       "      <td>VNM</td>\n",
       "      <td>0</td>\n",
       "      <td>None</td>\n",
       "    </tr>\n",
       "    <tr>\n",
       "      <th>196</th>\n",
       "      <td>African Region</td>\n",
       "      <td>West Africa</td>\n",
       "      <td>WLF</td>\n",
       "      <td>0</td>\n",
       "      <td>None</td>\n",
       "    </tr>\n",
       "    <tr>\n",
       "      <th>197</th>\n",
       "      <td>Eastern Mediterranean Region</td>\n",
       "      <td>Yemen</td>\n",
       "      <td>YEM</td>\n",
       "      <td>1</td>\n",
       "      <td>PAP only</td>\n",
       "    </tr>\n",
       "    <tr>\n",
       "      <th>198</th>\n",
       "      <td>African Region</td>\n",
       "      <td>Zambia</td>\n",
       "      <td>ZMB</td>\n",
       "      <td>3</td>\n",
       "      <td>both</td>\n",
       "    </tr>\n",
       "    <tr>\n",
       "      <th>199</th>\n",
       "      <td>African Region</td>\n",
       "      <td>Zimbabwe</td>\n",
       "      <td>ZWE</td>\n",
       "      <td>0</td>\n",
       "      <td>None</td>\n",
       "    </tr>\n",
       "  </tbody>\n",
       "</table>\n",
       "<p>200 rows × 5 columns</p>\n",
       "</div>"
      ],
      "text/plain": [
       "                           Region      Country Country_iso  provider type  \\\n",
       "0    Eastern Mediterranean Region  Afghanistan         AFG              0   \n",
       "1                 European Region      Albania         ALB              0   \n",
       "2                  African Region      Algeria         DZA              0   \n",
       "3                 European Region      Andorra         AND              0   \n",
       "4                  African Region       Angola         AGO              0   \n",
       "..                            ...          ...         ...            ...   \n",
       "195        Western Pacific Region      Vietnam         VNM              0   \n",
       "196                African Region  West Africa         WLF              0   \n",
       "197  Eastern Mediterranean Region        Yemen         YEM              1   \n",
       "198                African Region       Zambia         ZMB              3   \n",
       "199                African Region     Zimbabwe         ZWE              0   \n",
       "\n",
       "    provider2  \n",
       "0        None  \n",
       "1        None  \n",
       "2        None  \n",
       "3        None  \n",
       "4        None  \n",
       "..        ...  \n",
       "195      None  \n",
       "196      None  \n",
       "197  PAP only  \n",
       "198      both  \n",
       "199      None  \n",
       "\n",
       "[200 rows x 5 columns]"
      ]
     },
     "execution_count": 370,
     "metadata": {},
     "output_type": "execute_result"
    }
   ],
   "source": [
    "haspap"
   ]
  },
  {
   "cell_type": "code",
   "execution_count": 430,
   "metadata": {
    "collapsed": false
   },
   "outputs": [
    {
     "ename": "TypeError",
     "evalue": "choropleth() got an unexpected keyword argument 'color_discrete_map'",
     "output_type": "error",
     "traceback": [
      "\u001b[0;31m---------------------------------------------------------------------------\u001b[0m",
      "\u001b[0;31mTypeError\u001b[0m                                 Traceback (most recent call last)",
      "\u001b[0;32m<ipython-input-430-1903af06d17d>\u001b[0m in \u001b[0;36m<module>\u001b[0;34m\u001b[0m\n\u001b[0;32m----> 1\u001b[0;31m \u001b[0mfig\u001b[0m \u001b[0;34m=\u001b[0m \u001b[0mpx\u001b[0m\u001b[0;34m.\u001b[0m\u001b[0mchoropleth\u001b[0m\u001b[0;34m(\u001b[0m\u001b[0mlocations\u001b[0m\u001b[0;34m=\u001b[0m\u001b[0mhaspap\u001b[0m\u001b[0;34m[\u001b[0m\u001b[0;34m'Country_iso'\u001b[0m\u001b[0;34m]\u001b[0m\u001b[0;34m,\u001b[0m \u001b[0mlocationmode\u001b[0m\u001b[0;34m=\u001b[0m\u001b[0;34m'ISO-3'\u001b[0m\u001b[0;34m,\u001b[0m \u001b[0mscope\u001b[0m\u001b[0;34m=\u001b[0m\u001b[0;34m'world'\u001b[0m\u001b[0;34m,\u001b[0m \u001b[0mcolor\u001b[0m\u001b[0;34m=\u001b[0m\u001b[0mhaspap\u001b[0m\u001b[0;34m[\u001b[0m\u001b[0;34m'provider2'\u001b[0m\u001b[0;34m]\u001b[0m\u001b[0;34m,\u001b[0m \u001b[0mcolor_discrete_map\u001b[0m\u001b[0;34m=\u001b[0m\u001b[0;34m{\u001b[0m\u001b[0;34m'None'\u001b[0m\u001b[0;34m:\u001b[0m\u001b[0;34m'red'\u001b[0m\u001b[0;34m,\u001b[0m\u001b[0;34m'both'\u001b[0m\u001b[0;34m:\u001b[0m\u001b[0;34m'blue'\u001b[0m\u001b[0;34m,\u001b[0m\u001b[0;34m'NPAP only'\u001b[0m\u001b[0;34m:\u001b[0m\u001b[0;34m'yellow'\u001b[0m\u001b[0;34m,\u001b[0m\u001b[0;34m'PAP only'\u001b[0m\u001b[0;34m:\u001b[0m\u001b[0;34m'green'\u001b[0m\u001b[0;34m}\u001b[0m\u001b[0;34m)\u001b[0m\u001b[0;34m\u001b[0m\u001b[0m\n\u001b[0m\u001b[1;32m      2\u001b[0m \u001b[0mfig\u001b[0m\u001b[0;34m.\u001b[0m\u001b[0mshow\u001b[0m\u001b[0;34m(\u001b[0m\u001b[0;34m)\u001b[0m\u001b[0;34m\u001b[0m\u001b[0m\n",
      "\u001b[0;31mTypeError\u001b[0m: choropleth() got an unexpected keyword argument 'color_discrete_map'"
     ]
    }
   ],
   "source": [
    "fig = px.choropleth(locations=haspap['Country_iso'], locationmode='ISO-3', scope='world', color=haspap['provider2'], color_discrete_map={'None':'red','both':'blue','NPAP only':'yellow','PAP only':'green'})\n",
    "fig.show()"
   ]
  },
  {
   "cell_type": "code",
   "execution_count": 385,
   "metadata": {
    "collapsed": false
   },
   "outputs": [
    {
     "data": {
      "text/html": [
       "<div>\n",
       "<style scoped>\n",
       "    .dataframe tbody tr th:only-of-type {\n",
       "        vertical-align: middle;\n",
       "    }\n",
       "\n",
       "    .dataframe tbody tr th {\n",
       "        vertical-align: top;\n",
       "    }\n",
       "\n",
       "    .dataframe thead th {\n",
       "        text-align: right;\n",
       "    }\n",
       "</style>\n",
       "<table border=\"1\" class=\"dataframe\">\n",
       "  <thead>\n",
       "    <tr style=\"text-align: right;\">\n",
       "      <th></th>\n",
       "      <th>Region</th>\n",
       "      <th>Country</th>\n",
       "      <th>Country_iso</th>\n",
       "      <th>provider type</th>\n",
       "    </tr>\n",
       "  </thead>\n",
       "  <tbody>\n",
       "    <tr>\n",
       "      <th>0</th>\n",
       "      <td>Eastern Mediterranean Region</td>\n",
       "      <td>Afghanistan</td>\n",
       "      <td>AFG</td>\n",
       "      <td>0</td>\n",
       "    </tr>\n",
       "    <tr>\n",
       "      <th>1</th>\n",
       "      <td>European Region</td>\n",
       "      <td>Albania</td>\n",
       "      <td>ALB</td>\n",
       "      <td>0</td>\n",
       "    </tr>\n",
       "    <tr>\n",
       "      <th>2</th>\n",
       "      <td>African Region</td>\n",
       "      <td>Algeria</td>\n",
       "      <td>DZA</td>\n",
       "      <td>0</td>\n",
       "    </tr>\n",
       "    <tr>\n",
       "      <th>3</th>\n",
       "      <td>European Region</td>\n",
       "      <td>Andorra</td>\n",
       "      <td>AND</td>\n",
       "      <td>0</td>\n",
       "    </tr>\n",
       "    <tr>\n",
       "      <th>4</th>\n",
       "      <td>African Region</td>\n",
       "      <td>Angola</td>\n",
       "      <td>AGO</td>\n",
       "      <td>0</td>\n",
       "    </tr>\n",
       "    <tr>\n",
       "      <th>...</th>\n",
       "      <td>...</td>\n",
       "      <td>...</td>\n",
       "      <td>...</td>\n",
       "      <td>...</td>\n",
       "    </tr>\n",
       "    <tr>\n",
       "      <th>195</th>\n",
       "      <td>Western Pacific Region</td>\n",
       "      <td>Vietnam</td>\n",
       "      <td>VNM</td>\n",
       "      <td>0</td>\n",
       "    </tr>\n",
       "    <tr>\n",
       "      <th>196</th>\n",
       "      <td>African Region</td>\n",
       "      <td>West Africa</td>\n",
       "      <td>WLF</td>\n",
       "      <td>0</td>\n",
       "    </tr>\n",
       "    <tr>\n",
       "      <th>197</th>\n",
       "      <td>Eastern Mediterranean Region</td>\n",
       "      <td>Yemen</td>\n",
       "      <td>YEM</td>\n",
       "      <td>1</td>\n",
       "    </tr>\n",
       "    <tr>\n",
       "      <th>198</th>\n",
       "      <td>African Region</td>\n",
       "      <td>Zambia</td>\n",
       "      <td>ZMB</td>\n",
       "      <td>3</td>\n",
       "    </tr>\n",
       "    <tr>\n",
       "      <th>199</th>\n",
       "      <td>African Region</td>\n",
       "      <td>Zimbabwe</td>\n",
       "      <td>ZWE</td>\n",
       "      <td>0</td>\n",
       "    </tr>\n",
       "  </tbody>\n",
       "</table>\n",
       "<p>200 rows × 4 columns</p>\n",
       "</div>"
      ],
      "text/plain": [
       "                           Region      Country Country_iso  provider type\n",
       "0    Eastern Mediterranean Region  Afghanistan         AFG              0\n",
       "1                 European Region      Albania         ALB              0\n",
       "2                  African Region      Algeria         DZA              0\n",
       "3                 European Region      Andorra         AND              0\n",
       "4                  African Region       Angola         AGO              0\n",
       "..                            ...          ...         ...            ...\n",
       "195        Western Pacific Region      Vietnam         VNM              0\n",
       "196                African Region  West Africa         WLF              0\n",
       "197  Eastern Mediterranean Region        Yemen         YEM              1\n",
       "198                African Region       Zambia         ZMB              3\n",
       "199                African Region     Zimbabwe         ZWE              0\n",
       "\n",
       "[200 rows x 4 columns]"
      ]
     },
     "execution_count": 385,
     "metadata": {},
     "output_type": "execute_result"
    }
   ],
   "source": [
    "regions"
   ]
  }
 ],
 "metadata": {
  "finalized": {
   "timestamp": 1623938755954,
   "trusted": true
  },
  "kernelspec": {
   "display_name": "Python 3",
   "language": "python",
   "name": "python3"
  },
  "language_info": {
   "codemirror_mode": {
    "name": "ipython",
    "version": 3
   },
   "file_extension": ".py",
   "mimetype": "text/x-python",
   "name": "python",
   "nbconvert_exporter": "python",
   "pygments_lexer": "ipython3",
   "version": "3.5.9"
  },
  "toc": {
   "base_numbering": 1,
   "nav_menu": {},
   "number_sections": true,
   "sideBar": true,
   "skip_h1_title": false,
   "title_cell": "Table of Contents",
   "title_sidebar": "Contents",
   "toc_cell": true,
   "toc_position": {
    "height": "calc(100% - 180px)",
    "left": "10px",
    "top": "150px",
    "width": "167px"
   },
   "toc_section_display": true,
   "toc_window_display": true
  }
 },
 "nbformat": 4,
 "nbformat_minor": 4
}
